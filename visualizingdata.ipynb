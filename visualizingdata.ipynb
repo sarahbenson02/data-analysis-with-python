{
 "cells": [
  {
   "cell_type": "markdown",
   "metadata": {},
   "source": [
    "# Visualizing Data"
   ]
  },
  {
   "cell_type": "markdown",
   "metadata": {},
   "source": [
    "## Data Quality Report\n",
    "It is important to develop a set of questions that you want answered about the data you are working with in order to ascertain how good the dataset is. Examples of how to do this follow in this section."
   ]
  },
  {
   "cell_type": "code",
   "execution_count": 3,
   "metadata": {},
   "outputs": [
    {
     "data": {
      "text/html": [
       "<div>\n",
       "<style scoped>\n",
       "    .dataframe tbody tr th:only-of-type {\n",
       "        vertical-align: middle;\n",
       "    }\n",
       "\n",
       "    .dataframe tbody tr th {\n",
       "        vertical-align: top;\n",
       "    }\n",
       "\n",
       "    .dataframe thead th {\n",
       "        text-align: right;\n",
       "    }\n",
       "</style>\n",
       "<table border=\"1\" class=\"dataframe\">\n",
       "  <thead>\n",
       "    <tr style=\"text-align: right;\">\n",
       "      <th></th>\n",
       "      <th>0</th>\n",
       "      <th>1</th>\n",
       "      <th>2</th>\n",
       "      <th>3</th>\n",
       "      <th>4</th>\n",
       "      <th>5</th>\n",
       "      <th>6</th>\n",
       "      <th>7</th>\n",
       "      <th>8</th>\n",
       "      <th>9</th>\n",
       "      <th>...</th>\n",
       "      <th>1990</th>\n",
       "      <th>1991</th>\n",
       "      <th>1992</th>\n",
       "      <th>1993</th>\n",
       "      <th>1994</th>\n",
       "      <th>1995</th>\n",
       "      <th>1996</th>\n",
       "      <th>1997</th>\n",
       "      <th>1998</th>\n",
       "      <th>1999</th>\n",
       "    </tr>\n",
       "  </thead>\n",
       "  <tbody>\n",
       "    <tr>\n",
       "      <th>fname</th>\n",
       "      <td>Dolan</td>\n",
       "      <td>NaN</td>\n",
       "      <td>NaN</td>\n",
       "      <td>NaN</td>\n",
       "      <td>NaN</td>\n",
       "      <td>NaN</td>\n",
       "      <td>NaN</td>\n",
       "      <td>NaN</td>\n",
       "      <td>NaN</td>\n",
       "      <td>NaN</td>\n",
       "      <td>...</td>\n",
       "      <td>NaN</td>\n",
       "      <td>NaN</td>\n",
       "      <td>NaN</td>\n",
       "      <td>NaN</td>\n",
       "      <td>NaN</td>\n",
       "      <td>NaN</td>\n",
       "      <td>NaN</td>\n",
       "      <td>NaN</td>\n",
       "      <td>NaN</td>\n",
       "      <td>NaN</td>\n",
       "    </tr>\n",
       "    <tr>\n",
       "      <th>lname</th>\n",
       "      <td>Conley</td>\n",
       "      <td>Harvey</td>\n",
       "      <td>Oconnor</td>\n",
       "      <td>Randall</td>\n",
       "      <td>NaN</td>\n",
       "      <td>NaN</td>\n",
       "      <td>NaN</td>\n",
       "      <td>NaN</td>\n",
       "      <td>NaN</td>\n",
       "      <td>NaN</td>\n",
       "      <td>...</td>\n",
       "      <td>NaN</td>\n",
       "      <td>NaN</td>\n",
       "      <td>NaN</td>\n",
       "      <td>NaN</td>\n",
       "      <td>NaN</td>\n",
       "      <td>NaN</td>\n",
       "      <td>NaN</td>\n",
       "      <td>NaN</td>\n",
       "      <td>NaN</td>\n",
       "      <td>NaN</td>\n",
       "    </tr>\n",
       "    <tr>\n",
       "      <th>gender</th>\n",
       "      <td>female</td>\n",
       "      <td>male</td>\n",
       "      <td>NaN</td>\n",
       "      <td>NaN</td>\n",
       "      <td>NaN</td>\n",
       "      <td>NaN</td>\n",
       "      <td>NaN</td>\n",
       "      <td>NaN</td>\n",
       "      <td>NaN</td>\n",
       "      <td>NaN</td>\n",
       "      <td>...</td>\n",
       "      <td>NaN</td>\n",
       "      <td>NaN</td>\n",
       "      <td>NaN</td>\n",
       "      <td>NaN</td>\n",
       "      <td>NaN</td>\n",
       "      <td>NaN</td>\n",
       "      <td>NaN</td>\n",
       "      <td>NaN</td>\n",
       "      <td>NaN</td>\n",
       "      <td>NaN</td>\n",
       "    </tr>\n",
       "    <tr>\n",
       "      <th>age</th>\n",
       "      <td>17</td>\n",
       "      <td>NaN</td>\n",
       "      <td>NaN</td>\n",
       "      <td>NaN</td>\n",
       "      <td>NaN</td>\n",
       "      <td>NaN</td>\n",
       "      <td>NaN</td>\n",
       "      <td>NaN</td>\n",
       "      <td>NaN</td>\n",
       "      <td>NaN</td>\n",
       "      <td>...</td>\n",
       "      <td>NaN</td>\n",
       "      <td>NaN</td>\n",
       "      <td>NaN</td>\n",
       "      <td>NaN</td>\n",
       "      <td>NaN</td>\n",
       "      <td>NaN</td>\n",
       "      <td>NaN</td>\n",
       "      <td>NaN</td>\n",
       "      <td>NaN</td>\n",
       "      <td>NaN</td>\n",
       "    </tr>\n",
       "    <tr>\n",
       "      <th>exercise</th>\n",
       "      <td>4</td>\n",
       "      <td>NaN</td>\n",
       "      <td>NaN</td>\n",
       "      <td>NaN</td>\n",
       "      <td>NaN</td>\n",
       "      <td>NaN</td>\n",
       "      <td>NaN</td>\n",
       "      <td>NaN</td>\n",
       "      <td>NaN</td>\n",
       "      <td>NaN</td>\n",
       "      <td>...</td>\n",
       "      <td>NaN</td>\n",
       "      <td>NaN</td>\n",
       "      <td>NaN</td>\n",
       "      <td>NaN</td>\n",
       "      <td>NaN</td>\n",
       "      <td>NaN</td>\n",
       "      <td>NaN</td>\n",
       "      <td>NaN</td>\n",
       "      <td>NaN</td>\n",
       "      <td>NaN</td>\n",
       "    </tr>\n",
       "    <tr>\n",
       "      <th>hours</th>\n",
       "      <td>11</td>\n",
       "      <td>NaN</td>\n",
       "      <td>NaN</td>\n",
       "      <td>NaN</td>\n",
       "      <td>NaN</td>\n",
       "      <td>NaN</td>\n",
       "      <td>NaN</td>\n",
       "      <td>NaN</td>\n",
       "      <td>NaN</td>\n",
       "      <td>NaN</td>\n",
       "      <td>...</td>\n",
       "      <td>NaN</td>\n",
       "      <td>NaN</td>\n",
       "      <td>NaN</td>\n",
       "      <td>NaN</td>\n",
       "      <td>NaN</td>\n",
       "      <td>NaN</td>\n",
       "      <td>NaN</td>\n",
       "      <td>NaN</td>\n",
       "      <td>NaN</td>\n",
       "      <td>NaN</td>\n",
       "    </tr>\n",
       "    <tr>\n",
       "      <th>grade</th>\n",
       "      <td>100</td>\n",
       "      <td>NaN</td>\n",
       "      <td>NaN</td>\n",
       "      <td>NaN</td>\n",
       "      <td>NaN</td>\n",
       "      <td>NaN</td>\n",
       "      <td>NaN</td>\n",
       "      <td>NaN</td>\n",
       "      <td>NaN</td>\n",
       "      <td>NaN</td>\n",
       "      <td>...</td>\n",
       "      <td>NaN</td>\n",
       "      <td>NaN</td>\n",
       "      <td>NaN</td>\n",
       "      <td>NaN</td>\n",
       "      <td>NaN</td>\n",
       "      <td>NaN</td>\n",
       "      <td>NaN</td>\n",
       "      <td>NaN</td>\n",
       "      <td>NaN</td>\n",
       "      <td>NaN</td>\n",
       "    </tr>\n",
       "    <tr>\n",
       "      <th>address</th>\n",
       "      <td>1 Chapel Ave., Cheshire, CT 06410</td>\n",
       "      <td>1 Cottage Street, Rockville, MD 20850</td>\n",
       "      <td>1 Fairview Rd., Ann Arbor, MI 48103</td>\n",
       "      <td>1 Grand Street, Fairburn, GA 30213</td>\n",
       "      <td>1 Grandrose Street, Lakewood, NJ 08701</td>\n",
       "      <td>1 Indian Summer Street, Manchester Township, N...</td>\n",
       "      <td>1 Joy Ridge Dr., Bonita Springs, FL 34135</td>\n",
       "      <td>1 Kirkland Ave., Whitestone, NY 11357</td>\n",
       "      <td>1 Mayfair St., Indiana, PA 15701</td>\n",
       "      <td>1 Nicolls St., Banning, CA 92220</td>\n",
       "      <td>...</td>\n",
       "      <td>9961 State Ave., Union City, NJ 07087</td>\n",
       "      <td>9973 Miles Court, Worcester, MA 01604</td>\n",
       "      <td>9975 Lookout Court, Buffalo, NY 14215</td>\n",
       "      <td>998 Riverside St., Galloway, OH 43119</td>\n",
       "      <td>999 Nicolls Avenue, Oviedo, FL 32765</td>\n",
       "      <td>999 Sleepy Hollow Lane, Detroit, MI 48205</td>\n",
       "      <td>9991 Parker Court, Lansdowne, PA 19050</td>\n",
       "      <td>9995 Glenholme St., Upper Marlboro, MD 20772</td>\n",
       "      <td>9997 Nicolls St., Bellmore, NY 11710</td>\n",
       "      <td>9999 Longbranch St., Wayne, NJ 07470</td>\n",
       "    </tr>\n",
       "  </tbody>\n",
       "</table>\n",
       "<p>8 rows × 2000 columns</p>\n",
       "</div>"
      ],
      "text/plain": [
       "                                       0     \\\n",
       "fname                                 Dolan   \n",
       "lname                                Conley   \n",
       "gender                               female   \n",
       "age                                      17   \n",
       "exercise                                  4   \n",
       "hours                                    11   \n",
       "grade                                   100   \n",
       "address   1 Chapel Ave., Cheshire, CT 06410   \n",
       "\n",
       "                                           1     \\\n",
       "fname                                       NaN   \n",
       "lname                                    Harvey   \n",
       "gender                                     male   \n",
       "age                                         NaN   \n",
       "exercise                                    NaN   \n",
       "hours                                       NaN   \n",
       "grade                                       NaN   \n",
       "address   1 Cottage Street, Rockville, MD 20850   \n",
       "\n",
       "                                         2     \\\n",
       "fname                                     NaN   \n",
       "lname                                 Oconnor   \n",
       "gender                                    NaN   \n",
       "age                                       NaN   \n",
       "exercise                                  NaN   \n",
       "hours                                     NaN   \n",
       "grade                                     NaN   \n",
       "address   1 Fairview Rd., Ann Arbor, MI 48103   \n",
       "\n",
       "                                        3     \\\n",
       "fname                                    NaN   \n",
       "lname                                Randall   \n",
       "gender                                   NaN   \n",
       "age                                      NaN   \n",
       "exercise                                 NaN   \n",
       "hours                                    NaN   \n",
       "grade                                    NaN   \n",
       "address   1 Grand Street, Fairburn, GA 30213   \n",
       "\n",
       "                                            4     \\\n",
       "fname                                        NaN   \n",
       "lname                                        NaN   \n",
       "gender                                       NaN   \n",
       "age                                          NaN   \n",
       "exercise                                     NaN   \n",
       "hours                                        NaN   \n",
       "grade                                        NaN   \n",
       "address   1 Grandrose Street, Lakewood, NJ 08701   \n",
       "\n",
       "                                                       5     \\\n",
       "fname                                                   NaN   \n",
       "lname                                                   NaN   \n",
       "gender                                                  NaN   \n",
       "age                                                     NaN   \n",
       "exercise                                                NaN   \n",
       "hours                                                   NaN   \n",
       "grade                                                   NaN   \n",
       "address   1 Indian Summer Street, Manchester Township, N...   \n",
       "\n",
       "                                               6     \\\n",
       "fname                                           NaN   \n",
       "lname                                           NaN   \n",
       "gender                                          NaN   \n",
       "age                                             NaN   \n",
       "exercise                                        NaN   \n",
       "hours                                           NaN   \n",
       "grade                                           NaN   \n",
       "address   1 Joy Ridge Dr., Bonita Springs, FL 34135   \n",
       "\n",
       "                                           7     \\\n",
       "fname                                       NaN   \n",
       "lname                                       NaN   \n",
       "gender                                      NaN   \n",
       "age                                         NaN   \n",
       "exercise                                    NaN   \n",
       "hours                                       NaN   \n",
       "grade                                       NaN   \n",
       "address   1 Kirkland Ave., Whitestone, NY 11357   \n",
       "\n",
       "                                      8                                 9     \\\n",
       "fname                                  NaN                               NaN   \n",
       "lname                                  NaN                               NaN   \n",
       "gender                                 NaN                               NaN   \n",
       "age                                    NaN                               NaN   \n",
       "exercise                               NaN                               NaN   \n",
       "hours                                  NaN                               NaN   \n",
       "grade                                  NaN                               NaN   \n",
       "address   1 Mayfair St., Indiana, PA 15701  1 Nicolls St., Banning, CA 92220   \n",
       "\n",
       "                          ...                   \\\n",
       "fname                     ...                    \n",
       "lname                     ...                    \n",
       "gender                    ...                    \n",
       "age                       ...                    \n",
       "exercise                  ...                    \n",
       "hours                     ...                    \n",
       "grade                     ...                    \n",
       "address                   ...                    \n",
       "\n",
       "                                           1990  \\\n",
       "fname                                       NaN   \n",
       "lname                                       NaN   \n",
       "gender                                      NaN   \n",
       "age                                         NaN   \n",
       "exercise                                    NaN   \n",
       "hours                                       NaN   \n",
       "grade                                       NaN   \n",
       "address   9961 State Ave., Union City, NJ 07087   \n",
       "\n",
       "                                           1991  \\\n",
       "fname                                       NaN   \n",
       "lname                                       NaN   \n",
       "gender                                      NaN   \n",
       "age                                         NaN   \n",
       "exercise                                    NaN   \n",
       "hours                                       NaN   \n",
       "grade                                       NaN   \n",
       "address   9973 Miles Court, Worcester, MA 01604   \n",
       "\n",
       "                                           1992  \\\n",
       "fname                                       NaN   \n",
       "lname                                       NaN   \n",
       "gender                                      NaN   \n",
       "age                                         NaN   \n",
       "exercise                                    NaN   \n",
       "hours                                       NaN   \n",
       "grade                                       NaN   \n",
       "address   9975 Lookout Court, Buffalo, NY 14215   \n",
       "\n",
       "                                           1993  \\\n",
       "fname                                       NaN   \n",
       "lname                                       NaN   \n",
       "gender                                      NaN   \n",
       "age                                         NaN   \n",
       "exercise                                    NaN   \n",
       "hours                                       NaN   \n",
       "grade                                       NaN   \n",
       "address   998 Riverside St., Galloway, OH 43119   \n",
       "\n",
       "                                          1994  \\\n",
       "fname                                      NaN   \n",
       "lname                                      NaN   \n",
       "gender                                     NaN   \n",
       "age                                        NaN   \n",
       "exercise                                   NaN   \n",
       "hours                                      NaN   \n",
       "grade                                      NaN   \n",
       "address   999 Nicolls Avenue, Oviedo, FL 32765   \n",
       "\n",
       "                                               1995  \\\n",
       "fname                                           NaN   \n",
       "lname                                           NaN   \n",
       "gender                                          NaN   \n",
       "age                                             NaN   \n",
       "exercise                                        NaN   \n",
       "hours                                           NaN   \n",
       "grade                                           NaN   \n",
       "address   999 Sleepy Hollow Lane, Detroit, MI 48205   \n",
       "\n",
       "                                            1996  \\\n",
       "fname                                        NaN   \n",
       "lname                                        NaN   \n",
       "gender                                       NaN   \n",
       "age                                          NaN   \n",
       "exercise                                     NaN   \n",
       "hours                                        NaN   \n",
       "grade                                        NaN   \n",
       "address   9991 Parker Court, Lansdowne, PA 19050   \n",
       "\n",
       "                                                  1997  \\\n",
       "fname                                              NaN   \n",
       "lname                                              NaN   \n",
       "gender                                             NaN   \n",
       "age                                                NaN   \n",
       "exercise                                           NaN   \n",
       "hours                                              NaN   \n",
       "grade                                              NaN   \n",
       "address   9995 Glenholme St., Upper Marlboro, MD 20772   \n",
       "\n",
       "                                          1998  \\\n",
       "fname                                      NaN   \n",
       "lname                                      NaN   \n",
       "gender                                     NaN   \n",
       "age                                        NaN   \n",
       "exercise                                   NaN   \n",
       "hours                                      NaN   \n",
       "grade                                      NaN   \n",
       "address   9997 Nicolls St., Bellmore, NY 11710   \n",
       "\n",
       "                                          1999  \n",
       "fname                                      NaN  \n",
       "lname                                      NaN  \n",
       "gender                                     NaN  \n",
       "age                                        NaN  \n",
       "exercise                                   NaN  \n",
       "hours                                      NaN  \n",
       "grade                                      NaN  \n",
       "address   9999 Longbranch St., Wayne, NJ 07470  \n",
       "\n",
       "[8 rows x 2000 columns]"
      ]
     },
     "execution_count": 3,
     "metadata": {},
     "output_type": "execute_result"
    }
   ],
   "source": [
    "# load the data from a csv\n",
    "import pandas as pd\n",
    "Location = \"datasets/gradedata.csv\"\n",
    "df = pd.read_csv(Location)\n",
    "df.head()\n",
    "df.mode().transpose()"
   ]
  },
  {
   "cell_type": "code",
   "execution_count": 5,
   "metadata": {},
   "outputs": [
    {
     "data": {
      "text/html": [
       "<div>\n",
       "<style scoped>\n",
       "    .dataframe tbody tr th:only-of-type {\n",
       "        vertical-align: middle;\n",
       "    }\n",
       "\n",
       "    .dataframe tbody tr th {\n",
       "        vertical-align: top;\n",
       "    }\n",
       "\n",
       "    .dataframe thead th {\n",
       "        text-align: right;\n",
       "    }\n",
       "</style>\n",
       "<table border=\"1\" class=\"dataframe\">\n",
       "  <thead>\n",
       "    <tr style=\"text-align: right;\">\n",
       "      <th></th>\n",
       "      <th>Missing Values</th>\n",
       "    </tr>\n",
       "  </thead>\n",
       "  <tbody>\n",
       "    <tr>\n",
       "      <th>fname</th>\n",
       "      <td>0</td>\n",
       "    </tr>\n",
       "    <tr>\n",
       "      <th>lname</th>\n",
       "      <td>0</td>\n",
       "    </tr>\n",
       "    <tr>\n",
       "      <th>gender</th>\n",
       "      <td>0</td>\n",
       "    </tr>\n",
       "    <tr>\n",
       "      <th>age</th>\n",
       "      <td>0</td>\n",
       "    </tr>\n",
       "    <tr>\n",
       "      <th>exercise</th>\n",
       "      <td>0</td>\n",
       "    </tr>\n",
       "    <tr>\n",
       "      <th>hours</th>\n",
       "      <td>0</td>\n",
       "    </tr>\n",
       "    <tr>\n",
       "      <th>grade</th>\n",
       "      <td>0</td>\n",
       "    </tr>\n",
       "    <tr>\n",
       "      <th>address</th>\n",
       "      <td>0</td>\n",
       "    </tr>\n",
       "  </tbody>\n",
       "</table>\n",
       "</div>"
      ],
      "text/plain": [
       "          Missing Values\n",
       "fname                  0\n",
       "lname                  0\n",
       "gender                 0\n",
       "age                    0\n",
       "exercise               0\n",
       "hours                  0\n",
       "grade                  0\n",
       "address                0"
      ]
     },
     "execution_count": 5,
     "metadata": {},
     "output_type": "execute_result"
    }
   ],
   "source": [
    "# count the number of missing observations by column\n",
    "missing_data_counts = pd.DataFrame(df.isnull().sum(),\n",
    "                                  columns=['Missing Values'])\n",
    "missing_data_counts"
   ]
  },
  {
   "cell_type": "code",
   "execution_count": 6,
   "metadata": {},
   "outputs": [
    {
     "data": {
      "text/html": [
       "<div>\n",
       "<style scoped>\n",
       "    .dataframe tbody tr th:only-of-type {\n",
       "        vertical-align: middle;\n",
       "    }\n",
       "\n",
       "    .dataframe tbody tr th {\n",
       "        vertical-align: top;\n",
       "    }\n",
       "\n",
       "    .dataframe thead th {\n",
       "        text-align: right;\n",
       "    }\n",
       "</style>\n",
       "<table border=\"1\" class=\"dataframe\">\n",
       "  <thead>\n",
       "    <tr style=\"text-align: right;\">\n",
       "      <th></th>\n",
       "      <th>Present Values</th>\n",
       "    </tr>\n",
       "  </thead>\n",
       "  <tbody>\n",
       "    <tr>\n",
       "      <th>fname</th>\n",
       "      <td>2000</td>\n",
       "    </tr>\n",
       "    <tr>\n",
       "      <th>lname</th>\n",
       "      <td>2000</td>\n",
       "    </tr>\n",
       "    <tr>\n",
       "      <th>gender</th>\n",
       "      <td>2000</td>\n",
       "    </tr>\n",
       "    <tr>\n",
       "      <th>age</th>\n",
       "      <td>2000</td>\n",
       "    </tr>\n",
       "    <tr>\n",
       "      <th>exercise</th>\n",
       "      <td>2000</td>\n",
       "    </tr>\n",
       "    <tr>\n",
       "      <th>hours</th>\n",
       "      <td>2000</td>\n",
       "    </tr>\n",
       "    <tr>\n",
       "      <th>grade</th>\n",
       "      <td>2000</td>\n",
       "    </tr>\n",
       "    <tr>\n",
       "      <th>address</th>\n",
       "      <td>2000</td>\n",
       "    </tr>\n",
       "  </tbody>\n",
       "</table>\n",
       "</div>"
      ],
      "text/plain": [
       "          Present Values\n",
       "fname               2000\n",
       "lname               2000\n",
       "gender              2000\n",
       "age                 2000\n",
       "exercise            2000\n",
       "hours               2000\n",
       "grade               2000\n",
       "address             2000"
      ]
     },
     "execution_count": 6,
     "metadata": {},
     "output_type": "execute_result"
    }
   ],
   "source": [
    "# counting the number of present observations by column\n",
    "present_data_counts = pd.DataFrame(df.count(),\n",
    "                        columns = [\"Present Values\"])\n",
    "present_data_counts"
   ]
  },
  {
   "cell_type": "code",
   "execution_count": 7,
   "metadata": {},
   "outputs": [
    {
     "data": {
      "text/html": [
       "<div>\n",
       "<style scoped>\n",
       "    .dataframe tbody tr th:only-of-type {\n",
       "        vertical-align: middle;\n",
       "    }\n",
       "\n",
       "    .dataframe tbody tr th {\n",
       "        vertical-align: top;\n",
       "    }\n",
       "\n",
       "    .dataframe thead th {\n",
       "        text-align: right;\n",
       "    }\n",
       "</style>\n",
       "<table border=\"1\" class=\"dataframe\">\n",
       "  <thead>\n",
       "    <tr style=\"text-align: right;\">\n",
       "      <th></th>\n",
       "      <th>Unique Values</th>\n",
       "    </tr>\n",
       "  </thead>\n",
       "  <tbody>\n",
       "    <tr>\n",
       "      <th>fname</th>\n",
       "      <td>958</td>\n",
       "    </tr>\n",
       "    <tr>\n",
       "      <th>lname</th>\n",
       "      <td>877</td>\n",
       "    </tr>\n",
       "    <tr>\n",
       "      <th>gender</th>\n",
       "      <td>2</td>\n",
       "    </tr>\n",
       "    <tr>\n",
       "      <th>age</th>\n",
       "      <td>6</td>\n",
       "    </tr>\n",
       "    <tr>\n",
       "      <th>exercise</th>\n",
       "      <td>6</td>\n",
       "    </tr>\n",
       "    <tr>\n",
       "      <th>hours</th>\n",
       "      <td>21</td>\n",
       "    </tr>\n",
       "    <tr>\n",
       "      <th>grade</th>\n",
       "      <td>385</td>\n",
       "    </tr>\n",
       "    <tr>\n",
       "      <th>address</th>\n",
       "      <td>2000</td>\n",
       "    </tr>\n",
       "  </tbody>\n",
       "</table>\n",
       "</div>"
      ],
      "text/plain": [
       "         Unique Values\n",
       "fname              958\n",
       "lname              877\n",
       "gender               2\n",
       "age                  6\n",
       "exercise             6\n",
       "hours               21\n",
       "grade              385\n",
       "address           2000"
      ]
     },
     "execution_count": 7,
     "metadata": {},
     "output_type": "execute_result"
    }
   ],
   "source": [
    "# count the number of unique observations by column\n",
    "unique_value_counts = pd.DataFrame(\n",
    "    columns = [\"Unique Values\"])\n",
    "\n",
    "for v in list(df.columns.values):\n",
    "    unique_value_counts.loc[v] = df[v].nunique()\n",
    "\n",
    "unique_value_counts"
   ]
  },
  {
   "cell_type": "code",
   "execution_count": 8,
   "metadata": {},
   "outputs": [
    {
     "data": {
      "text/html": [
       "<div>\n",
       "<style scoped>\n",
       "    .dataframe tbody tr th:only-of-type {\n",
       "        vertical-align: middle;\n",
       "    }\n",
       "\n",
       "    .dataframe tbody tr th {\n",
       "        vertical-align: top;\n",
       "    }\n",
       "\n",
       "    .dataframe thead th {\n",
       "        text-align: right;\n",
       "    }\n",
       "</style>\n",
       "<table border=\"1\" class=\"dataframe\">\n",
       "  <thead>\n",
       "    <tr style=\"text-align: right;\">\n",
       "      <th></th>\n",
       "      <th>Minimum Values</th>\n",
       "    </tr>\n",
       "  </thead>\n",
       "  <tbody>\n",
       "    <tr>\n",
       "      <th>fname</th>\n",
       "      <td>Aaron</td>\n",
       "    </tr>\n",
       "    <tr>\n",
       "      <th>lname</th>\n",
       "      <td>Acevedo</td>\n",
       "    </tr>\n",
       "    <tr>\n",
       "      <th>gender</th>\n",
       "      <td>female</td>\n",
       "    </tr>\n",
       "    <tr>\n",
       "      <th>age</th>\n",
       "      <td>14</td>\n",
       "    </tr>\n",
       "    <tr>\n",
       "      <th>exercise</th>\n",
       "      <td>0</td>\n",
       "    </tr>\n",
       "    <tr>\n",
       "      <th>hours</th>\n",
       "      <td>0</td>\n",
       "    </tr>\n",
       "    <tr>\n",
       "      <th>grade</th>\n",
       "      <td>32</td>\n",
       "    </tr>\n",
       "    <tr>\n",
       "      <th>address</th>\n",
       "      <td>1 Chapel Ave., Cheshire, CT 06410</td>\n",
       "    </tr>\n",
       "  </tbody>\n",
       "</table>\n",
       "</div>"
      ],
      "text/plain": [
       "                             Minimum Values\n",
       "fname                                 Aaron\n",
       "lname                               Acevedo\n",
       "gender                               female\n",
       "age                                      14\n",
       "exercise                                  0\n",
       "hours                                     0\n",
       "grade                                    32\n",
       "address   1 Chapel Ave., Cheshire, CT 06410"
      ]
     },
     "execution_count": 8,
     "metadata": {},
     "output_type": "execute_result"
    }
   ],
   "source": [
    "# finding the minimum value for each column\n",
    "minimum_vals = pd.DataFrame(columns=[\"Minimum Values\"])\n",
    "for v in list(df.columns.values):\n",
    "    minimum_vals.loc[v] = df[v].min()\n",
    "minimum_vals"
   ]
  },
  {
   "cell_type": "code",
   "execution_count": 9,
   "metadata": {},
   "outputs": [
    {
     "data": {
      "text/html": [
       "<div>\n",
       "<style scoped>\n",
       "    .dataframe tbody tr th:only-of-type {\n",
       "        vertical-align: middle;\n",
       "    }\n",
       "\n",
       "    .dataframe tbody tr th {\n",
       "        vertical-align: top;\n",
       "    }\n",
       "\n",
       "    .dataframe thead th {\n",
       "        text-align: right;\n",
       "    }\n",
       "</style>\n",
       "<table border=\"1\" class=\"dataframe\">\n",
       "  <thead>\n",
       "    <tr style=\"text-align: right;\">\n",
       "      <th></th>\n",
       "      <th>Maximum Values</th>\n",
       "    </tr>\n",
       "  </thead>\n",
       "  <tbody>\n",
       "    <tr>\n",
       "      <th>fname</th>\n",
       "      <td>Zorita</td>\n",
       "    </tr>\n",
       "    <tr>\n",
       "      <th>lname</th>\n",
       "      <td>Zimmerman</td>\n",
       "    </tr>\n",
       "    <tr>\n",
       "      <th>gender</th>\n",
       "      <td>male</td>\n",
       "    </tr>\n",
       "    <tr>\n",
       "      <th>age</th>\n",
       "      <td>19</td>\n",
       "    </tr>\n",
       "    <tr>\n",
       "      <th>exercise</th>\n",
       "      <td>5</td>\n",
       "    </tr>\n",
       "    <tr>\n",
       "      <th>hours</th>\n",
       "      <td>20</td>\n",
       "    </tr>\n",
       "    <tr>\n",
       "      <th>grade</th>\n",
       "      <td>100</td>\n",
       "    </tr>\n",
       "    <tr>\n",
       "      <th>address</th>\n",
       "      <td>9999 Longbranch St., Wayne, NJ 07470</td>\n",
       "    </tr>\n",
       "  </tbody>\n",
       "</table>\n",
       "</div>"
      ],
      "text/plain": [
       "                                Maximum Values\n",
       "fname                                   Zorita\n",
       "lname                                Zimmerman\n",
       "gender                                    male\n",
       "age                                         19\n",
       "exercise                                     5\n",
       "hours                                       20\n",
       "grade                                      100\n",
       "address   9999 Longbranch St., Wayne, NJ 07470"
      ]
     },
     "execution_count": 9,
     "metadata": {},
     "output_type": "execute_result"
    }
   ],
   "source": [
    "# find the maximum value for each column\n",
    "maximum_vals = pd.DataFrame(columns=[\"Maximum Values\"])\n",
    "for v in list(df.columns.values):\n",
    "    maximum_vals.loc[v] = df[v].max()\n",
    "maximum_vals"
   ]
  },
  {
   "cell_type": "code",
   "execution_count": 10,
   "metadata": {},
   "outputs": [
    {
     "data": {
      "text/html": [
       "<div>\n",
       "<style scoped>\n",
       "    .dataframe tbody tr th:only-of-type {\n",
       "        vertical-align: middle;\n",
       "    }\n",
       "\n",
       "    .dataframe tbody tr th {\n",
       "        vertical-align: top;\n",
       "    }\n",
       "\n",
       "    .dataframe thead th {\n",
       "        text-align: right;\n",
       "    }\n",
       "</style>\n",
       "<table border=\"1\" class=\"dataframe\">\n",
       "  <thead>\n",
       "    <tr style=\"text-align: right;\">\n",
       "      <th></th>\n",
       "      <th>Present Values</th>\n",
       "      <th>Missing Values</th>\n",
       "      <th>Unique Values</th>\n",
       "      <th>Minimum Values</th>\n",
       "      <th>Maximum Values</th>\n",
       "    </tr>\n",
       "  </thead>\n",
       "  <tbody>\n",
       "    <tr>\n",
       "      <th>fname</th>\n",
       "      <td>2000</td>\n",
       "      <td>0</td>\n",
       "      <td>958</td>\n",
       "      <td>Aaron</td>\n",
       "      <td>Zorita</td>\n",
       "    </tr>\n",
       "    <tr>\n",
       "      <th>lname</th>\n",
       "      <td>2000</td>\n",
       "      <td>0</td>\n",
       "      <td>877</td>\n",
       "      <td>Acevedo</td>\n",
       "      <td>Zimmerman</td>\n",
       "    </tr>\n",
       "    <tr>\n",
       "      <th>gender</th>\n",
       "      <td>2000</td>\n",
       "      <td>0</td>\n",
       "      <td>2</td>\n",
       "      <td>female</td>\n",
       "      <td>male</td>\n",
       "    </tr>\n",
       "    <tr>\n",
       "      <th>age</th>\n",
       "      <td>2000</td>\n",
       "      <td>0</td>\n",
       "      <td>6</td>\n",
       "      <td>14</td>\n",
       "      <td>19</td>\n",
       "    </tr>\n",
       "    <tr>\n",
       "      <th>exercise</th>\n",
       "      <td>2000</td>\n",
       "      <td>0</td>\n",
       "      <td>6</td>\n",
       "      <td>0</td>\n",
       "      <td>5</td>\n",
       "    </tr>\n",
       "    <tr>\n",
       "      <th>hours</th>\n",
       "      <td>2000</td>\n",
       "      <td>0</td>\n",
       "      <td>21</td>\n",
       "      <td>0</td>\n",
       "      <td>20</td>\n",
       "    </tr>\n",
       "    <tr>\n",
       "      <th>grade</th>\n",
       "      <td>2000</td>\n",
       "      <td>0</td>\n",
       "      <td>385</td>\n",
       "      <td>32</td>\n",
       "      <td>100</td>\n",
       "    </tr>\n",
       "    <tr>\n",
       "      <th>address</th>\n",
       "      <td>2000</td>\n",
       "      <td>0</td>\n",
       "      <td>2000</td>\n",
       "      <td>1 Chapel Ave., Cheshire, CT 06410</td>\n",
       "      <td>9999 Longbranch St., Wayne, NJ 07470</td>\n",
       "    </tr>\n",
       "  </tbody>\n",
       "</table>\n",
       "</div>"
      ],
      "text/plain": [
       "          Present Values  Missing Values Unique Values  \\\n",
       "fname               2000               0           958   \n",
       "lname               2000               0           877   \n",
       "gender              2000               0             2   \n",
       "age                 2000               0             6   \n",
       "exercise            2000               0             6   \n",
       "hours               2000               0            21   \n",
       "grade               2000               0           385   \n",
       "address             2000               0          2000   \n",
       "\n",
       "                             Minimum Values  \\\n",
       "fname                                 Aaron   \n",
       "lname                               Acevedo   \n",
       "gender                               female   \n",
       "age                                      14   \n",
       "exercise                                  0   \n",
       "hours                                     0   \n",
       "grade                                    32   \n",
       "address   1 Chapel Ave., Cheshire, CT 06410   \n",
       "\n",
       "                                Maximum Values  \n",
       "fname                                   Zorita  \n",
       "lname                                Zimmerman  \n",
       "gender                                    male  \n",
       "age                                         19  \n",
       "exercise                                     5  \n",
       "hours                                       20  \n",
       "grade                                      100  \n",
       "address   9999 Longbranch St., Wayne, NJ 07470  "
      ]
     },
     "execution_count": 10,
     "metadata": {},
     "output_type": "execute_result"
    }
   ],
   "source": [
    "# joinining all the lists together into one final list\n",
    "report = pd.concat([present_data_counts,missing_data_counts,\n",
    "           unique_value_counts,minimum_vals,maximum_vals],\n",
    "         axis = 1)\n",
    "report"
   ]
  },
  {
   "cell_type": "code",
   "execution_count": 11,
   "metadata": {},
   "outputs": [
    {
     "data": {
      "text/html": [
       "<div>\n",
       "<style scoped>\n",
       "    .dataframe tbody tr th:only-of-type {\n",
       "        vertical-align: middle;\n",
       "    }\n",
       "\n",
       "    .dataframe tbody tr th {\n",
       "        vertical-align: top;\n",
       "    }\n",
       "\n",
       "    .dataframe thead th {\n",
       "        text-align: right;\n",
       "    }\n",
       "</style>\n",
       "<table border=\"1\" class=\"dataframe\">\n",
       "  <thead>\n",
       "    <tr style=\"text-align: right;\">\n",
       "      <th></th>\n",
       "      <th>Missing Values</th>\n",
       "    </tr>\n",
       "  </thead>\n",
       "  <tbody>\n",
       "    <tr>\n",
       "      <th>Participant_code</th>\n",
       "      <td>0</td>\n",
       "    </tr>\n",
       "    <tr>\n",
       "      <th>Age</th>\n",
       "      <td>0</td>\n",
       "    </tr>\n",
       "    <tr>\n",
       "      <th>Gender</th>\n",
       "      <td>0</td>\n",
       "    </tr>\n",
       "    <tr>\n",
       "      <th>Fam_History_Parkinsons</th>\n",
       "      <td>50</td>\n",
       "    </tr>\n",
       "    <tr>\n",
       "      <th>Age_of_onset</th>\n",
       "      <td>50</td>\n",
       "    </tr>\n",
       "    <tr>\n",
       "      <th>Duration_from_first_symptoms</th>\n",
       "      <td>50</td>\n",
       "    </tr>\n",
       "    <tr>\n",
       "      <th>Antidepressants</th>\n",
       "      <td>0</td>\n",
       "    </tr>\n",
       "    <tr>\n",
       "      <th>Antiparkinsonian_meds</th>\n",
       "      <td>0</td>\n",
       "    </tr>\n",
       "    <tr>\n",
       "      <th>Antipsychotic_meds</th>\n",
       "      <td>0</td>\n",
       "    </tr>\n",
       "    <tr>\n",
       "      <th>Benzodiazepine_meds</th>\n",
       "      <td>0</td>\n",
       "    </tr>\n",
       "    <tr>\n",
       "      <th>Medications</th>\n",
       "      <td>0</td>\n",
       "    </tr>\n",
       "    <tr>\n",
       "      <th>Levodopa_equivalent</th>\n",
       "      <td>130</td>\n",
       "    </tr>\n",
       "    <tr>\n",
       "      <th>Clonazepam</th>\n",
       "      <td>121</td>\n",
       "    </tr>\n",
       "    <tr>\n",
       "      <th>EntropySpeechTiming</th>\n",
       "      <td>0</td>\n",
       "    </tr>\n",
       "    <tr>\n",
       "      <th>RateSpeechTiming</th>\n",
       "      <td>0</td>\n",
       "    </tr>\n",
       "    <tr>\n",
       "      <th>AccelerationSpeechTiming</th>\n",
       "      <td>0</td>\n",
       "    </tr>\n",
       "    <tr>\n",
       "      <th>DurationPauseIntervals</th>\n",
       "      <td>0</td>\n",
       "    </tr>\n",
       "    <tr>\n",
       "      <th>DurationVoicedIntervals</th>\n",
       "      <td>0</td>\n",
       "    </tr>\n",
       "    <tr>\n",
       "      <th>GapingBTVoicedInterval</th>\n",
       "      <td>0</td>\n",
       "    </tr>\n",
       "    <tr>\n",
       "      <th>DurationUnvoicedStops</th>\n",
       "      <td>0</td>\n",
       "    </tr>\n",
       "    <tr>\n",
       "      <th>DecayUnvoicedFricatives</th>\n",
       "      <td>0</td>\n",
       "    </tr>\n",
       "    <tr>\n",
       "      <th>RelativeLoudnessRespiration</th>\n",
       "      <td>0</td>\n",
       "    </tr>\n",
       "    <tr>\n",
       "      <th>PauseIntPerResp</th>\n",
       "      <td>0</td>\n",
       "    </tr>\n",
       "    <tr>\n",
       "      <th>RateSpeechRespiration</th>\n",
       "      <td>0</td>\n",
       "    </tr>\n",
       "    <tr>\n",
       "      <th>LatencyRespExchange</th>\n",
       "      <td>0</td>\n",
       "    </tr>\n",
       "  </tbody>\n",
       "</table>\n",
       "</div>"
      ],
      "text/plain": [
       "                              Missing Values\n",
       "Participant_code                           0\n",
       "Age                                        0\n",
       "Gender                                     0\n",
       "Fam_History_Parkinsons                    50\n",
       "Age_of_onset                              50\n",
       "Duration_from_first_symptoms              50\n",
       "Antidepressants                            0\n",
       "Antiparkinsonian_meds                      0\n",
       "Antipsychotic_meds                         0\n",
       "Benzodiazepine_meds                        0\n",
       "Medications                                0\n",
       "Levodopa_equivalent                      130\n",
       "Clonazepam                               121\n",
       "EntropySpeechTiming                        0\n",
       "RateSpeechTiming                           0\n",
       "AccelerationSpeechTiming                   0\n",
       "DurationPauseIntervals                     0\n",
       "DurationVoicedIntervals                    0\n",
       "GapingBTVoicedInterval                     0\n",
       "DurationUnvoicedStops                      0\n",
       "DecayUnvoicedFricatives                    0\n",
       "RelativeLoudnessRespiration                0\n",
       "PauseIntPerResp                            0\n",
       "RateSpeechRespiration                      0\n",
       "LatencyRespExchange                        0"
      ]
     },
     "execution_count": 11,
     "metadata": {},
     "output_type": "execute_result"
    }
   ],
   "source": [
    "# for parkinsons data\n",
    "import pandas as pd\n",
    "Location = \"datasets/parkinsons.csv\"\n",
    "df = pd.read_csv(Location)\n",
    "missing = pd.DataFrame(df.isnull().sum(),\n",
    "                       columns = [\"Missing Values\"])\n",
    "missing"
   ]
  },
  {
   "cell_type": "code",
   "execution_count": 12,
   "metadata": {},
   "outputs": [
    {
     "data": {
      "text/html": [
       "<div>\n",
       "<style scoped>\n",
       "    .dataframe tbody tr th:only-of-type {\n",
       "        vertical-align: middle;\n",
       "    }\n",
       "\n",
       "    .dataframe tbody tr th {\n",
       "        vertical-align: top;\n",
       "    }\n",
       "\n",
       "    .dataframe thead th {\n",
       "        text-align: right;\n",
       "    }\n",
       "</style>\n",
       "<table border=\"1\" class=\"dataframe\">\n",
       "  <thead>\n",
       "    <tr style=\"text-align: right;\">\n",
       "      <th></th>\n",
       "      <th>Present Values</th>\n",
       "    </tr>\n",
       "  </thead>\n",
       "  <tbody>\n",
       "    <tr>\n",
       "      <th>Participant_code</th>\n",
       "      <td>130</td>\n",
       "    </tr>\n",
       "    <tr>\n",
       "      <th>Age</th>\n",
       "      <td>130</td>\n",
       "    </tr>\n",
       "    <tr>\n",
       "      <th>Gender</th>\n",
       "      <td>130</td>\n",
       "    </tr>\n",
       "    <tr>\n",
       "      <th>Fam_History_Parkinsons</th>\n",
       "      <td>80</td>\n",
       "    </tr>\n",
       "    <tr>\n",
       "      <th>Age_of_onset</th>\n",
       "      <td>80</td>\n",
       "    </tr>\n",
       "    <tr>\n",
       "      <th>Duration_from_first_symptoms</th>\n",
       "      <td>80</td>\n",
       "    </tr>\n",
       "    <tr>\n",
       "      <th>Antidepressants</th>\n",
       "      <td>130</td>\n",
       "    </tr>\n",
       "    <tr>\n",
       "      <th>Antiparkinsonian_meds</th>\n",
       "      <td>130</td>\n",
       "    </tr>\n",
       "    <tr>\n",
       "      <th>Antipsychotic_meds</th>\n",
       "      <td>130</td>\n",
       "    </tr>\n",
       "    <tr>\n",
       "      <th>Benzodiazepine_meds</th>\n",
       "      <td>130</td>\n",
       "    </tr>\n",
       "    <tr>\n",
       "      <th>Medications</th>\n",
       "      <td>130</td>\n",
       "    </tr>\n",
       "    <tr>\n",
       "      <th>Levodopa_equivalent</th>\n",
       "      <td>0</td>\n",
       "    </tr>\n",
       "    <tr>\n",
       "      <th>Clonazepam</th>\n",
       "      <td>9</td>\n",
       "    </tr>\n",
       "    <tr>\n",
       "      <th>EntropySpeechTiming</th>\n",
       "      <td>130</td>\n",
       "    </tr>\n",
       "    <tr>\n",
       "      <th>RateSpeechTiming</th>\n",
       "      <td>130</td>\n",
       "    </tr>\n",
       "    <tr>\n",
       "      <th>AccelerationSpeechTiming</th>\n",
       "      <td>130</td>\n",
       "    </tr>\n",
       "    <tr>\n",
       "      <th>DurationPauseIntervals</th>\n",
       "      <td>130</td>\n",
       "    </tr>\n",
       "    <tr>\n",
       "      <th>DurationVoicedIntervals</th>\n",
       "      <td>130</td>\n",
       "    </tr>\n",
       "    <tr>\n",
       "      <th>GapingBTVoicedInterval</th>\n",
       "      <td>130</td>\n",
       "    </tr>\n",
       "    <tr>\n",
       "      <th>DurationUnvoicedStops</th>\n",
       "      <td>130</td>\n",
       "    </tr>\n",
       "    <tr>\n",
       "      <th>DecayUnvoicedFricatives</th>\n",
       "      <td>130</td>\n",
       "    </tr>\n",
       "    <tr>\n",
       "      <th>RelativeLoudnessRespiration</th>\n",
       "      <td>130</td>\n",
       "    </tr>\n",
       "    <tr>\n",
       "      <th>PauseIntPerResp</th>\n",
       "      <td>130</td>\n",
       "    </tr>\n",
       "    <tr>\n",
       "      <th>RateSpeechRespiration</th>\n",
       "      <td>130</td>\n",
       "    </tr>\n",
       "    <tr>\n",
       "      <th>LatencyRespExchange</th>\n",
       "      <td>130</td>\n",
       "    </tr>\n",
       "  </tbody>\n",
       "</table>\n",
       "</div>"
      ],
      "text/plain": [
       "                              Present Values\n",
       "Participant_code                         130\n",
       "Age                                      130\n",
       "Gender                                   130\n",
       "Fam_History_Parkinsons                    80\n",
       "Age_of_onset                              80\n",
       "Duration_from_first_symptoms              80\n",
       "Antidepressants                          130\n",
       "Antiparkinsonian_meds                    130\n",
       "Antipsychotic_meds                       130\n",
       "Benzodiazepine_meds                      130\n",
       "Medications                              130\n",
       "Levodopa_equivalent                        0\n",
       "Clonazepam                                 9\n",
       "EntropySpeechTiming                      130\n",
       "RateSpeechTiming                         130\n",
       "AccelerationSpeechTiming                 130\n",
       "DurationPauseIntervals                   130\n",
       "DurationVoicedIntervals                  130\n",
       "GapingBTVoicedInterval                   130\n",
       "DurationUnvoicedStops                    130\n",
       "DecayUnvoicedFricatives                  130\n",
       "RelativeLoudnessRespiration              130\n",
       "PauseIntPerResp                          130\n",
       "RateSpeechRespiration                    130\n",
       "LatencyRespExchange                      130"
      ]
     },
     "execution_count": 12,
     "metadata": {},
     "output_type": "execute_result"
    }
   ],
   "source": [
    "# present counts\n",
    "present = pd.DataFrame(df.count(), \n",
    "        columns = [\"Present Values\"])\n",
    "present"
   ]
  },
  {
   "cell_type": "code",
   "execution_count": 13,
   "metadata": {},
   "outputs": [
    {
     "data": {
      "text/html": [
       "<div>\n",
       "<style scoped>\n",
       "    .dataframe tbody tr th:only-of-type {\n",
       "        vertical-align: middle;\n",
       "    }\n",
       "\n",
       "    .dataframe tbody tr th {\n",
       "        vertical-align: top;\n",
       "    }\n",
       "\n",
       "    .dataframe thead th {\n",
       "        text-align: right;\n",
       "    }\n",
       "</style>\n",
       "<table border=\"1\" class=\"dataframe\">\n",
       "  <thead>\n",
       "    <tr style=\"text-align: right;\">\n",
       "      <th></th>\n",
       "      <th>Unique Values</th>\n",
       "    </tr>\n",
       "  </thead>\n",
       "  <tbody>\n",
       "    <tr>\n",
       "      <th>Participant_code</th>\n",
       "      <td>3</td>\n",
       "    </tr>\n",
       "    <tr>\n",
       "      <th>Age</th>\n",
       "      <td>39</td>\n",
       "    </tr>\n",
       "    <tr>\n",
       "      <th>Gender</th>\n",
       "      <td>2</td>\n",
       "    </tr>\n",
       "    <tr>\n",
       "      <th>Fam_History_Parkinsons</th>\n",
       "      <td>2</td>\n",
       "    </tr>\n",
       "    <tr>\n",
       "      <th>Age_of_onset</th>\n",
       "      <td>34</td>\n",
       "    </tr>\n",
       "    <tr>\n",
       "      <th>Duration_from_first_symptoms</th>\n",
       "      <td>19</td>\n",
       "    </tr>\n",
       "    <tr>\n",
       "      <th>Antidepressants</th>\n",
       "      <td>2</td>\n",
       "    </tr>\n",
       "    <tr>\n",
       "      <th>Antiparkinsonian_meds</th>\n",
       "      <td>1</td>\n",
       "    </tr>\n",
       "    <tr>\n",
       "      <th>Antipsychotic_meds</th>\n",
       "      <td>1</td>\n",
       "    </tr>\n",
       "    <tr>\n",
       "      <th>Benzodiazepine_meds</th>\n",
       "      <td>2</td>\n",
       "    </tr>\n",
       "    <tr>\n",
       "      <th>Medications</th>\n",
       "      <td>4</td>\n",
       "    </tr>\n",
       "    <tr>\n",
       "      <th>Levodopa_equivalent</th>\n",
       "      <td>0</td>\n",
       "    </tr>\n",
       "    <tr>\n",
       "      <th>Clonazepam</th>\n",
       "      <td>4</td>\n",
       "    </tr>\n",
       "    <tr>\n",
       "      <th>EntropySpeechTiming</th>\n",
       "      <td>42</td>\n",
       "    </tr>\n",
       "    <tr>\n",
       "      <th>RateSpeechTiming</th>\n",
       "      <td>97</td>\n",
       "    </tr>\n",
       "    <tr>\n",
       "      <th>AccelerationSpeechTiming</th>\n",
       "      <td>126</td>\n",
       "    </tr>\n",
       "    <tr>\n",
       "      <th>DurationPauseIntervals</th>\n",
       "      <td>107</td>\n",
       "    </tr>\n",
       "    <tr>\n",
       "      <th>DurationVoicedIntervals</th>\n",
       "      <td>91</td>\n",
       "    </tr>\n",
       "    <tr>\n",
       "      <th>GapingBTVoicedInterval</th>\n",
       "      <td>129</td>\n",
       "    </tr>\n",
       "    <tr>\n",
       "      <th>DurationUnvoicedStops</th>\n",
       "      <td>16</td>\n",
       "    </tr>\n",
       "    <tr>\n",
       "      <th>DecayUnvoicedFricatives</th>\n",
       "      <td>129</td>\n",
       "    </tr>\n",
       "    <tr>\n",
       "      <th>RelativeLoudnessRespiration</th>\n",
       "      <td>121</td>\n",
       "    </tr>\n",
       "    <tr>\n",
       "      <th>PauseIntPerResp</th>\n",
       "      <td>14</td>\n",
       "    </tr>\n",
       "    <tr>\n",
       "      <th>RateSpeechRespiration</th>\n",
       "      <td>128</td>\n",
       "    </tr>\n",
       "    <tr>\n",
       "      <th>LatencyRespExchange</th>\n",
       "      <td>99</td>\n",
       "    </tr>\n",
       "  </tbody>\n",
       "</table>\n",
       "</div>"
      ],
      "text/plain": [
       "                             Unique Values\n",
       "Participant_code                         3\n",
       "Age                                     39\n",
       "Gender                                   2\n",
       "Fam_History_Parkinsons                   2\n",
       "Age_of_onset                            34\n",
       "Duration_from_first_symptoms            19\n",
       "Antidepressants                          2\n",
       "Antiparkinsonian_meds                    1\n",
       "Antipsychotic_meds                       1\n",
       "Benzodiazepine_meds                      2\n",
       "Medications                              4\n",
       "Levodopa_equivalent                      0\n",
       "Clonazepam                               4\n",
       "EntropySpeechTiming                     42\n",
       "RateSpeechTiming                        97\n",
       "AccelerationSpeechTiming               126\n",
       "DurationPauseIntervals                 107\n",
       "DurationVoicedIntervals                 91\n",
       "GapingBTVoicedInterval                 129\n",
       "DurationUnvoicedStops                   16\n",
       "DecayUnvoicedFricatives                129\n",
       "RelativeLoudnessRespiration            121\n",
       "PauseIntPerResp                         14\n",
       "RateSpeechRespiration                  128\n",
       "LatencyRespExchange                     99"
      ]
     },
     "execution_count": 13,
     "metadata": {},
     "output_type": "execute_result"
    }
   ],
   "source": [
    "# number of unique elements\n",
    "unique = pd.DataFrame(columns=[\"Unique Values\"])\n",
    "for v in (df.columns.values):\n",
    "    unique.loc[v] = df[v].nunique()\n",
    "unique"
   ]
  },
  {
   "cell_type": "code",
   "execution_count": 14,
   "metadata": {},
   "outputs": [
    {
     "data": {
      "text/html": [
       "<div>\n",
       "<style scoped>\n",
       "    .dataframe tbody tr th:only-of-type {\n",
       "        vertical-align: middle;\n",
       "    }\n",
       "\n",
       "    .dataframe tbody tr th {\n",
       "        vertical-align: top;\n",
       "    }\n",
       "\n",
       "    .dataframe thead th {\n",
       "        text-align: right;\n",
       "    }\n",
       "</style>\n",
       "<table border=\"1\" class=\"dataframe\">\n",
       "  <thead>\n",
       "    <tr style=\"text-align: right;\">\n",
       "      <th></th>\n",
       "      <th>Missing Values</th>\n",
       "      <th>Present Values</th>\n",
       "      <th>Unique Values</th>\n",
       "    </tr>\n",
       "  </thead>\n",
       "  <tbody>\n",
       "    <tr>\n",
       "      <th>Participant_code</th>\n",
       "      <td>0</td>\n",
       "      <td>130</td>\n",
       "      <td>3</td>\n",
       "    </tr>\n",
       "    <tr>\n",
       "      <th>Age</th>\n",
       "      <td>0</td>\n",
       "      <td>130</td>\n",
       "      <td>39</td>\n",
       "    </tr>\n",
       "    <tr>\n",
       "      <th>Gender</th>\n",
       "      <td>0</td>\n",
       "      <td>130</td>\n",
       "      <td>2</td>\n",
       "    </tr>\n",
       "    <tr>\n",
       "      <th>Fam_History_Parkinsons</th>\n",
       "      <td>50</td>\n",
       "      <td>80</td>\n",
       "      <td>2</td>\n",
       "    </tr>\n",
       "    <tr>\n",
       "      <th>Age_of_onset</th>\n",
       "      <td>50</td>\n",
       "      <td>80</td>\n",
       "      <td>34</td>\n",
       "    </tr>\n",
       "    <tr>\n",
       "      <th>Duration_from_first_symptoms</th>\n",
       "      <td>50</td>\n",
       "      <td>80</td>\n",
       "      <td>19</td>\n",
       "    </tr>\n",
       "    <tr>\n",
       "      <th>Antidepressants</th>\n",
       "      <td>0</td>\n",
       "      <td>130</td>\n",
       "      <td>2</td>\n",
       "    </tr>\n",
       "    <tr>\n",
       "      <th>Antiparkinsonian_meds</th>\n",
       "      <td>0</td>\n",
       "      <td>130</td>\n",
       "      <td>1</td>\n",
       "    </tr>\n",
       "    <tr>\n",
       "      <th>Antipsychotic_meds</th>\n",
       "      <td>0</td>\n",
       "      <td>130</td>\n",
       "      <td>1</td>\n",
       "    </tr>\n",
       "    <tr>\n",
       "      <th>Benzodiazepine_meds</th>\n",
       "      <td>0</td>\n",
       "      <td>130</td>\n",
       "      <td>2</td>\n",
       "    </tr>\n",
       "    <tr>\n",
       "      <th>Medications</th>\n",
       "      <td>0</td>\n",
       "      <td>130</td>\n",
       "      <td>4</td>\n",
       "    </tr>\n",
       "    <tr>\n",
       "      <th>Levodopa_equivalent</th>\n",
       "      <td>130</td>\n",
       "      <td>0</td>\n",
       "      <td>0</td>\n",
       "    </tr>\n",
       "    <tr>\n",
       "      <th>Clonazepam</th>\n",
       "      <td>121</td>\n",
       "      <td>9</td>\n",
       "      <td>4</td>\n",
       "    </tr>\n",
       "    <tr>\n",
       "      <th>EntropySpeechTiming</th>\n",
       "      <td>0</td>\n",
       "      <td>130</td>\n",
       "      <td>42</td>\n",
       "    </tr>\n",
       "    <tr>\n",
       "      <th>RateSpeechTiming</th>\n",
       "      <td>0</td>\n",
       "      <td>130</td>\n",
       "      <td>97</td>\n",
       "    </tr>\n",
       "    <tr>\n",
       "      <th>AccelerationSpeechTiming</th>\n",
       "      <td>0</td>\n",
       "      <td>130</td>\n",
       "      <td>126</td>\n",
       "    </tr>\n",
       "    <tr>\n",
       "      <th>DurationPauseIntervals</th>\n",
       "      <td>0</td>\n",
       "      <td>130</td>\n",
       "      <td>107</td>\n",
       "    </tr>\n",
       "    <tr>\n",
       "      <th>DurationVoicedIntervals</th>\n",
       "      <td>0</td>\n",
       "      <td>130</td>\n",
       "      <td>91</td>\n",
       "    </tr>\n",
       "    <tr>\n",
       "      <th>GapingBTVoicedInterval</th>\n",
       "      <td>0</td>\n",
       "      <td>130</td>\n",
       "      <td>129</td>\n",
       "    </tr>\n",
       "    <tr>\n",
       "      <th>DurationUnvoicedStops</th>\n",
       "      <td>0</td>\n",
       "      <td>130</td>\n",
       "      <td>16</td>\n",
       "    </tr>\n",
       "    <tr>\n",
       "      <th>DecayUnvoicedFricatives</th>\n",
       "      <td>0</td>\n",
       "      <td>130</td>\n",
       "      <td>129</td>\n",
       "    </tr>\n",
       "    <tr>\n",
       "      <th>RelativeLoudnessRespiration</th>\n",
       "      <td>0</td>\n",
       "      <td>130</td>\n",
       "      <td>121</td>\n",
       "    </tr>\n",
       "    <tr>\n",
       "      <th>PauseIntPerResp</th>\n",
       "      <td>0</td>\n",
       "      <td>130</td>\n",
       "      <td>14</td>\n",
       "    </tr>\n",
       "    <tr>\n",
       "      <th>RateSpeechRespiration</th>\n",
       "      <td>0</td>\n",
       "      <td>130</td>\n",
       "      <td>128</td>\n",
       "    </tr>\n",
       "    <tr>\n",
       "      <th>LatencyRespExchange</th>\n",
       "      <td>0</td>\n",
       "      <td>130</td>\n",
       "      <td>99</td>\n",
       "    </tr>\n",
       "  </tbody>\n",
       "</table>\n",
       "</div>"
      ],
      "text/plain": [
       "                              Missing Values  Present Values Unique Values\n",
       "Participant_code                           0             130             3\n",
       "Age                                        0             130            39\n",
       "Gender                                     0             130             2\n",
       "Fam_History_Parkinsons                    50              80             2\n",
       "Age_of_onset                              50              80            34\n",
       "Duration_from_first_symptoms              50              80            19\n",
       "Antidepressants                            0             130             2\n",
       "Antiparkinsonian_meds                      0             130             1\n",
       "Antipsychotic_meds                         0             130             1\n",
       "Benzodiazepine_meds                        0             130             2\n",
       "Medications                                0             130             4\n",
       "Levodopa_equivalent                      130               0             0\n",
       "Clonazepam                               121               9             4\n",
       "EntropySpeechTiming                        0             130            42\n",
       "RateSpeechTiming                           0             130            97\n",
       "AccelerationSpeechTiming                   0             130           126\n",
       "DurationPauseIntervals                     0             130           107\n",
       "DurationVoicedIntervals                    0             130            91\n",
       "GapingBTVoicedInterval                     0             130           129\n",
       "DurationUnvoicedStops                      0             130            16\n",
       "DecayUnvoicedFricatives                    0             130           129\n",
       "RelativeLoudnessRespiration                0             130           121\n",
       "PauseIntPerResp                            0             130            14\n",
       "RateSpeechRespiration                      0             130           128\n",
       "LatencyRespExchange                        0             130            99"
      ]
     },
     "execution_count": 14,
     "metadata": {},
     "output_type": "execute_result"
    }
   ],
   "source": [
    "# combining into one dataset\n",
    "report = pd.concat([missing,present,unique],axis=1)\n",
    "report"
   ]
  },
  {
   "cell_type": "markdown",
   "metadata": {},
   "source": [
    "## Graph a Dataset - Line Plot"
   ]
  },
  {
   "cell_type": "code",
   "execution_count": 15,
   "metadata": {},
   "outputs": [
    {
     "data": {
      "text/plain": [
       "<matplotlib.axes._subplots.AxesSubplot at 0x200beb3bac8>"
      ]
     },
     "execution_count": 15,
     "metadata": {},
     "output_type": "execute_result"
    },
    {
     "data": {
      "image/png": "[encoded data removed]",
      "text/plain": [
       "<Figure size 432x288 with 1 Axes>"
      ]
     },
     "metadata": {
      "needs_background": "light"
     },
     "output_type": "display_data"
    }
   ],
   "source": [
    "# creating a simple line plot for your dataset\n",
    "# create the dataset\n",
    "import pandas as pd\n",
    "names = [\"Bob\",\"Jessica\",\"Mary\",\"John\",\"Mel\"]\n",
    "grades = [76,83,77,78,95]\n",
    "GradeList = list(zip(names,grades))\n",
    "df = pd.DataFrame(data=GradeList,columns=[\"Names\",\"Grades\"])\n",
    "# configure matplotlib for use in jupyter notebooks\n",
    "%matplotlib inline\n",
    "df.plot()"
   ]
  },
  {
   "cell_type": "code",
   "execution_count": 16,
   "metadata": {},
   "outputs": [
    {
     "data": {
      "text/plain": [
       "<matplotlib.axes._subplots.AxesSubplot at 0x200bef104e0>"
      ]
     },
     "execution_count": 16,
     "metadata": {},
     "output_type": "execute_result"
    },
    {
     "data": {
      "image/png": "[encoded data removed]",
      "text/plain": [
       "<Figure size 432x288 with 1 Axes>"
      ]
     },
     "metadata": {
      "needs_background": "light"
     },
     "output_type": "display_data"
    }
   ],
   "source": [
    "# practice with the age\n",
    "import pandas as pd\n",
    "Location = \"datasets/parkinsons.csv\"\n",
    "df2 = pd.read_csv(Location)\n",
    "age = df2.Age\n",
    "%matplotlib inline\n",
    "age.plot()"
   ]
  },
  {
   "cell_type": "code",
   "execution_count": 17,
   "metadata": {},
   "outputs": [
    {
     "data": {
      "text/plain": [
       "Text(8,0,\"what's up!\")"
      ]
     },
     "execution_count": 17,
     "metadata": {},
     "output_type": "execute_result"
    },
    {
     "data": {
      "image/png": "[encoded data removed]",
      "text/plain": [
       "<Figure size 432x288 with 1 Axes>"
      ]
     },
     "metadata": {
      "needs_background": "light"
     },
     "output_type": "display_data"
    }
   ],
   "source": [
    "# customizing the simple line plot - adding annotation\n",
    "# documentation for annotate command - http://matplotlib.org/api/pyplot_api.html\n",
    "import matplotlib.pyplot as plt\n",
    "df.plot()\n",
    "displayText = \"what's up!\"\n",
    "xloc = 1\n",
    "yloc = df.Grades.max()\n",
    "xtext = 8\n",
    "ytext = 0\n",
    "plt.annotate(displayText, # text we want to show for the annotation\n",
    "            xy=(xloc,yloc), # coordinates of the data point we want to annotate\n",
    "            xytext=(xtext,ytext), # coordinates pf where we want the text to appear\n",
    "                             # using the coordinate system in textcoords\n",
    "            xycoords=(\"axes fraction\",\"data\"), # sets the coordinate system to use \n",
    "                             # to use to find our data point; can be different for x and y\n",
    "            textcoords=\"offset points\") # sets the coordinate system to use to place\n",
    "                        # the text"
   ]
  },
  {
   "cell_type": "code",
   "execution_count": 18,
   "metadata": {},
   "outputs": [
    {
     "data": {
      "text/plain": [
       "Text(8,-150,'my grade')"
      ]
     },
     "execution_count": 18,
     "metadata": {},
     "output_type": "execute_result"
    },
    {
     "data": {
      "image/png": "[encoded data removed]",
      "text/plain": [
       "<Figure size 432x288 with 1 Axes>"
      ]
     },
     "metadata": {
      "needs_background": "light"
     },
     "output_type": "display_data"
    }
   ],
   "source": [
    "# code to plot a customized graph - adding arrow to annotation\n",
    "df.plot()\n",
    "displayText = \"my grade\"\n",
    "xloc = 1\n",
    "yloc = df.Grades.max()\n",
    "xtext = 8\n",
    "ytext = -150\n",
    "plt.annotate(displayText,\n",
    "            xy=(xloc,yloc),\n",
    "            arrowprops=dict(facecolor='black',\n",
    "                           shrink=0.05),\n",
    "            xytext=(xtext,ytext),\n",
    "            xycoords=('axes fraction','data'),\n",
    "            textcoords='offset points')\n",
    "# more info about arrows - http://matplotlib.org/users/ annotations_intro.html"
   ]
  },
  {
   "cell_type": "code",
   "execution_count": 30,
   "metadata": {},
   "outputs": [
    {
     "data": {
      "text/plain": [
       "Text(20,150,'Wow!')"
      ]
     },
     "execution_count": 30,
     "metadata": {},
     "output_type": "execute_result"
    },
    {
     "data": {
      "image/png": "[encoded data removed]",
      "text/plain": [
       "<Figure size 432x288 with 1 Axes>"
      ]
     },
     "metadata": {
      "needs_background": "light"
     },
     "output_type": "display_data"
    }
   ],
   "source": [
    "# Practice\n",
    "import matplotlib.pyplot as plt\n",
    "df.plot()\n",
    "displaytext = \"Wow!\"\n",
    "xloc = 2\n",
    "yloc = df.Grades.loc[df.Names==\"Bob\"]\n",
    "xtext = 20\n",
    "ytext = 150\n",
    "plt.annotate(displaytext,\n",
    "            xy=(xloc,yloc),\n",
    "            arrowprops=dict(facecolor=\"blue\",\n",
    "                           shrink=0.1),\n",
    "            xytext=(xtext,ytext),\n",
    "            xycoords=(\"data\",\"data\"),\n",
    "            textcoords=\"offset points\")"
   ]
  },
  {
   "cell_type": "markdown",
   "metadata": {},
   "source": [
    "## Bar Plot"
   ]
  },
  {
   "cell_type": "code",
   "execution_count": 33,
   "metadata": {},
   "outputs": [
    {
     "data": {
      "text/html": [
       "<div>\n",
       "<style scoped>\n",
       "    .dataframe tbody tr th:only-of-type {\n",
       "        vertical-align: middle;\n",
       "    }\n",
       "\n",
       "    .dataframe tbody tr th {\n",
       "        vertical-align: top;\n",
       "    }\n",
       "\n",
       "    .dataframe thead th {\n",
       "        text-align: right;\n",
       "    }\n",
       "</style>\n",
       "<table border=\"1\" class=\"dataframe\">\n",
       "  <thead>\n",
       "    <tr style=\"text-align: right;\">\n",
       "      <th></th>\n",
       "      <th>Names</th>\n",
       "      <th>Status</th>\n",
       "      <th>Grades</th>\n",
       "    </tr>\n",
       "  </thead>\n",
       "  <tbody>\n",
       "    <tr>\n",
       "      <th>0</th>\n",
       "      <td>Bob</td>\n",
       "      <td>Senior</td>\n",
       "      <td>76</td>\n",
       "    </tr>\n",
       "    <tr>\n",
       "      <th>1</th>\n",
       "      <td>Jessica</td>\n",
       "      <td>Freshman</td>\n",
       "      <td>95</td>\n",
       "    </tr>\n",
       "    <tr>\n",
       "      <th>2</th>\n",
       "      <td>Mary</td>\n",
       "      <td>Sophomore</td>\n",
       "      <td>77</td>\n",
       "    </tr>\n",
       "    <tr>\n",
       "      <th>3</th>\n",
       "      <td>John</td>\n",
       "      <td>Senior</td>\n",
       "      <td>78</td>\n",
       "    </tr>\n",
       "    <tr>\n",
       "      <th>4</th>\n",
       "      <td>Mel</td>\n",
       "      <td>Junior</td>\n",
       "      <td>99</td>\n",
       "    </tr>\n",
       "  </tbody>\n",
       "</table>\n",
       "</div>"
      ],
      "text/plain": [
       "     Names     Status  Grades\n",
       "0      Bob     Senior      76\n",
       "1  Jessica   Freshman      95\n",
       "2     Mary  Sophomore      77\n",
       "3     John     Senior      78\n",
       "4      Mel     Junior      99"
      ]
     },
     "execution_count": 33,
     "metadata": {},
     "output_type": "execute_result"
    }
   ],
   "source": [
    "# Plotting data with a barplot\n",
    "import matplotlib.pyplot as plt\n",
    "import pandas as pd\n",
    "names = [\"Bob\",\"Jessica\",\"Mary\",\"John\",\"Mel\"]\n",
    "status = [\"Senior\",\"Freshman\",\"Sophomore\",\"Senior\",\"Junior\"]\n",
    "grades = [76,95,77,78,99]\n",
    "GradeList = list(zip(names,status,grades))\n",
    "df = pd.DataFrame(data=GradeList,\n",
    "                  columns=[\"Names\",\"Status\",\"Grades\"])\n",
    "df"
   ]
  },
  {
   "cell_type": "code",
   "execution_count": 35,
   "metadata": {},
   "outputs": [
    {
     "data": {
      "text/plain": [
       "<matplotlib.axes._subplots.AxesSubplot at 0x200c05a36d8>"
      ]
     },
     "execution_count": 35,
     "metadata": {},
     "output_type": "execute_result"
    },
    {
     "data": {
      "image/png": "[encoded data removed]",
      "text/plain": [
       "<Figure size 432x288 with 1 Axes>"
      ]
     },
     "metadata": {
      "needs_background": "light"
     },
     "output_type": "display_data"
    }
   ],
   "source": [
    "# Simple barplot of each grade\n",
    "%matplotlib inline\n",
    "df.plot(kind=\"bar\")"
   ]
  },
  {
   "cell_type": "code",
   "execution_count": 37,
   "metadata": {},
   "outputs": [
    {
     "data": {
      "text/plain": [
       "<matplotlib.axes._subplots.AxesSubplot at 0x200beef5f98>"
      ]
     },
     "execution_count": 37,
     "metadata": {},
     "output_type": "execute_result"
    },
    {
     "data": {
      "image/png": "[encoded data removed]",
      "text/plain": [
       "<Figure size 432x288 with 1 Axes>"
      ]
     },
     "metadata": {
      "needs_background": "light"
     },
     "output_type": "display_data"
    }
   ],
   "source": [
    "# adding student names to the x-axis\n",
    "df2 = df.set_index(df[\"Names\"]) # change the indices from numbers to names\n",
    "df2.plot(kind=\"bar\")"
   ]
  },
  {
   "cell_type": "code",
   "execution_count": 43,
   "metadata": {},
   "outputs": [
    {
     "data": {
      "text/plain": [
       "<matplotlib.axes._subplots.AxesSubplot at 0x200c08c69b0>"
      ]
     },
     "execution_count": 43,
     "metadata": {},
     "output_type": "execute_result"
    },
    {
     "data": {
      "image/png": "[encoded data removed]",
      "text/plain": [
       "<Figure size 432x288 with 1 Axes>"
      ]
     },
     "metadata": {
      "needs_background": "light"
     },
     "output_type": "display_data"
    }
   ],
   "source": [
    "# practice - making status the label\n",
    "df3 = df.set_index(df[\"Status\"])\n",
    "df3.plot(kind=\"bar\")"
   ]
  },
  {
   "cell_type": "markdown",
   "metadata": {},
   "source": [
    "## Box Plot"
   ]
  },
  {
   "cell_type": "code",
   "execution_count": 69,
   "metadata": {},
   "outputs": [
    {
     "data": {
      "text/plain": [
       "<matplotlib.axes._subplots.AxesSubplot at 0x200c2459c18>"
      ]
     },
     "execution_count": 69,
     "metadata": {},
     "output_type": "execute_result"
    },
    {
     "data": {
      "image/png": "[encoded data removed]",
      "text/plain": [
       "<Figure size 432x288 with 1 Axes>"
      ]
     },
     "metadata": {
      "needs_background": "light"
     },
     "output_type": "display_data"
    }
   ],
   "source": [
    "import matplotlib.pyplot as plt\n",
    "import pandas as pd\n",
    "%matplotlib inline\n",
    "names = [\"Bob\",\"Jessica\",\"Mary\",\"John\",\"Mel\"]\n",
    "grades = [76,95,77,78,99]\n",
    "gender = [\"Male\",\"Female\",\"Female\",\"Male\",\"Female\"]\n",
    "status = [\"Senior\",\"Senior\",\"Junior\",\"Junior\",\"Senior\"]\n",
    "GradeList = list(zip(names,grades,status, gender))\n",
    "df = pd.DataFrame(data=GradeList,\n",
    "                  columns=[\"Names\",\"Grades\",\"Status\",\"Gender\"])\n",
    "df.boxplot(column=\"Grades\")"
   ]
  },
  {
   "cell_type": "code",
   "execution_count": 49,
   "metadata": {},
   "outputs": [
    {
     "data": {
      "text/plain": [
       "<matplotlib.axes._subplots.AxesSubplot at 0x200c1cbd208>"
      ]
     },
     "execution_count": 49,
     "metadata": {},
     "output_type": "execute_result"
    },
    {
     "data": {
      "image/png": "[encoded data removed]",
      "text/plain": [
       "<Figure size 432x288 with 1 Axes>"
      ]
     },
     "metadata": {
      "needs_background": "light"
     },
     "output_type": "display_data"
    }
   ],
   "source": [
    "# categorizing boxplot by gender\n",
    "df.boxplot(by=\"Gender\",column=\"Grades\")"
   ]
  },
  {
   "cell_type": "code",
   "execution_count": 55,
   "metadata": {},
   "outputs": [
    {
     "data": {
      "text/plain": [
       "(0, 100)"
      ]
     },
     "execution_count": 55,
     "metadata": {},
     "output_type": "execute_result"
    },
    {
     "data": {
      "image/png": "[encoded data removed]",
      "text/plain": [
       "<Figure size 432x288 with 1 Axes>"
      ]
     },
     "metadata": {
      "needs_background": "light"
     },
     "output_type": "display_data"
    }
   ],
   "source": [
    "# readjusting the y-axis so that it spans from 0-100\n",
    "axis1 = df.boxplot(by=\"Gender\",column=\"Grades\")\n",
    "axis1.set_ylim(0,100)"
   ]
  },
  {
   "cell_type": "code",
   "execution_count": 57,
   "metadata": {},
   "outputs": [
    {
     "data": {
      "text/plain": [
       "<matplotlib.axes._subplots.AxesSubplot at 0x200c2024198>"
      ]
     },
     "execution_count": 57,
     "metadata": {},
     "output_type": "execute_result"
    },
    {
     "data": {
      "image/png": "[encoded data removed]",
      "text/plain": [
       "<Figure size 432x288 with 1 Axes>"
      ]
     },
     "metadata": {
      "needs_background": "light"
     },
     "output_type": "display_data"
    }
   ],
   "source": [
    "# practice - create a boxplot of grades categorized by student status\n",
    "df.boxplot(by=\"Status\",column=\"Grades\")"
   ]
  },
  {
   "cell_type": "code",
   "execution_count": 60,
   "metadata": {},
   "outputs": [
    {
     "data": {
      "text/plain": [
       "(50, 110)"
      ]
     },
     "execution_count": 60,
     "metadata": {},
     "output_type": "execute_result"
    },
    {
     "data": {
      "image/png": "[encoded data removed]",
      "text/plain": [
       "<Figure size 432x288 with 1 Axes>"
      ]
     },
     "metadata": {
      "needs_background": "light"
     },
     "output_type": "display_data"
    }
   ],
   "source": [
    "# practice - creating boxplot with axis from 50-100\n",
    "axis1 = df.boxplot(by=\"Status\",column=\"Grades\")\n",
    "axis1.set_ylim(50,110)"
   ]
  },
  {
   "cell_type": "markdown",
   "metadata": {},
   "source": [
    "## Histogram"
   ]
  },
  {
   "cell_type": "code",
   "execution_count": 72,
   "metadata": {},
   "outputs": [
    {
     "data": {
      "text/html": [
       "<div>\n",
       "<style scoped>\n",
       "    .dataframe tbody tr th:only-of-type {\n",
       "        vertical-align: middle;\n",
       "    }\n",
       "\n",
       "    .dataframe tbody tr th {\n",
       "        vertical-align: top;\n",
       "    }\n",
       "\n",
       "    .dataframe thead th {\n",
       "        text-align: right;\n",
       "    }\n",
       "</style>\n",
       "<table border=\"1\" class=\"dataframe\">\n",
       "  <thead>\n",
       "    <tr style=\"text-align: right;\">\n",
       "      <th></th>\n",
       "      <th>fname</th>\n",
       "      <th>lname</th>\n",
       "      <th>gender</th>\n",
       "      <th>age</th>\n",
       "      <th>exercise</th>\n",
       "      <th>hours</th>\n",
       "      <th>grade</th>\n",
       "      <th>address</th>\n",
       "    </tr>\n",
       "  </thead>\n",
       "  <tbody>\n",
       "    <tr>\n",
       "      <th>0</th>\n",
       "      <td>Marcia</td>\n",
       "      <td>Pugh</td>\n",
       "      <td>female</td>\n",
       "      <td>17</td>\n",
       "      <td>3</td>\n",
       "      <td>10</td>\n",
       "      <td>82.4</td>\n",
       "      <td>9253 Richardson Road, Matawan, NJ 07747</td>\n",
       "    </tr>\n",
       "    <tr>\n",
       "      <th>1</th>\n",
       "      <td>Kadeem</td>\n",
       "      <td>Morrison</td>\n",
       "      <td>male</td>\n",
       "      <td>18</td>\n",
       "      <td>4</td>\n",
       "      <td>4</td>\n",
       "      <td>78.2</td>\n",
       "      <td>33 Spring Dr., Taunton, MA 02780</td>\n",
       "    </tr>\n",
       "    <tr>\n",
       "      <th>2</th>\n",
       "      <td>Nash</td>\n",
       "      <td>Powell</td>\n",
       "      <td>male</td>\n",
       "      <td>18</td>\n",
       "      <td>5</td>\n",
       "      <td>9</td>\n",
       "      <td>79.3</td>\n",
       "      <td>41 Hill Avenue, Mentor, OH 44060</td>\n",
       "    </tr>\n",
       "    <tr>\n",
       "      <th>3</th>\n",
       "      <td>Noelani</td>\n",
       "      <td>Wagner</td>\n",
       "      <td>female</td>\n",
       "      <td>14</td>\n",
       "      <td>2</td>\n",
       "      <td>7</td>\n",
       "      <td>83.2</td>\n",
       "      <td>8839 Marshall St., Miami, FL 33125</td>\n",
       "    </tr>\n",
       "    <tr>\n",
       "      <th>4</th>\n",
       "      <td>Noelani</td>\n",
       "      <td>Cherry</td>\n",
       "      <td>female</td>\n",
       "      <td>18</td>\n",
       "      <td>4</td>\n",
       "      <td>15</td>\n",
       "      <td>87.4</td>\n",
       "      <td>8304 Charles Rd., Lewis Center, OH 43035</td>\n",
       "    </tr>\n",
       "  </tbody>\n",
       "</table>\n",
       "</div>"
      ],
      "text/plain": [
       "     fname     lname  gender  age  exercise  hours  grade  \\\n",
       "0   Marcia      Pugh  female   17         3     10   82.4   \n",
       "1   Kadeem  Morrison    male   18         4      4   78.2   \n",
       "2     Nash    Powell    male   18         5      9   79.3   \n",
       "3  Noelani    Wagner  female   14         2      7   83.2   \n",
       "4  Noelani    Cherry  female   18         4     15   87.4   \n",
       "\n",
       "                                    address  \n",
       "0   9253 Richardson Road, Matawan, NJ 07747  \n",
       "1          33 Spring Dr., Taunton, MA 02780  \n",
       "2          41 Hill Avenue, Mentor, OH 44060  \n",
       "3        8839 Marshall St., Miami, FL 33125  \n",
       "4  8304 Charles Rd., Lewis Center, OH 43035  "
      ]
     },
     "execution_count": 72,
     "metadata": {},
     "output_type": "execute_result"
    }
   ],
   "source": [
    "# import dataset\n",
    "import pandas as pd\n",
    "import matplotlib.pyplot as plt\n",
    "%matplotlib inline\n",
    "Location = \"datasets/gradedata.csv\"\n",
    "df = pd.read_csv(Location)\n",
    "df.head()"
   ]
  },
  {
   "cell_type": "code",
   "execution_count": 73,
   "metadata": {},
   "outputs": [
    {
     "data": {
      "text/plain": [
       "array([[<matplotlib.axes._subplots.AxesSubplot object at 0x00000200C2B27C88>,\n",
       "        <matplotlib.axes._subplots.AxesSubplot object at 0x00000200C2B7B240>],\n",
       "       [<matplotlib.axes._subplots.AxesSubplot object at 0x00000200C24D3898>,\n",
       "        <matplotlib.axes._subplots.AxesSubplot object at 0x00000200C24FBF28>]],\n",
       "      dtype=object)"
      ]
     },
     "execution_count": 73,
     "metadata": {},
     "output_type": "execute_result"
    },
    {
     "data": {
      "image/png": "[encoded data removed]",
      "text/plain": [
       "<Figure size 432x288 with 4 Axes>"
      ]
     },
     "metadata": {
      "needs_background": "light"
     },
     "output_type": "display_data"
    }
   ],
   "source": [
    "# simple histogram\n",
    "df.hist() # gives you histograms for all columns with numeric values"
   ]
  },
  {
   "cell_type": "code",
   "execution_count": 74,
   "metadata": {},
   "outputs": [
    {
     "data": {
      "text/plain": [
       "array([[<matplotlib.axes._subplots.AxesSubplot object at 0x00000200C253F2E8>]],\n",
       "      dtype=object)"
      ]
     },
     "execution_count": 74,
     "metadata": {},
     "output_type": "execute_result"
    },
    {
     "data": {
      "image/png": "[encoded data removed]",
      "text/plain": [
       "<Figure size 432x288 with 1 Axes>"
      ]
     },
     "metadata": {
      "needs_background": "light"
     },
     "output_type": "display_data"
    }
   ],
   "source": [
    "# creating histogram for single column\n",
    "df.hist(column=\"hours\")"
   ]
  },
  {
   "cell_type": "code",
   "execution_count": 80,
   "metadata": {},
   "outputs": [
    {
     "data": {
      "text/plain": [
       "array([<matplotlib.axes._subplots.AxesSubplot object at 0x00000200C27ACA58>,\n",
       "       <matplotlib.axes._subplots.AxesSubplot object at 0x00000200C2A0CCC0>],\n",
       "      dtype=object)"
      ]
     },
     "execution_count": 80,
     "metadata": {},
     "output_type": "execute_result"
    },
    {
     "data": {
      "image/png": "[encoded data removed]",
      "text/plain": [
       "<Figure size 432x288 with 2 Axes>"
      ]
     },
     "metadata": {
      "needs_background": "light"
     },
     "output_type": "display_data"
    }
   ],
   "source": [
    "# separating histogram by gender\n",
    "df.hist(column=\"hours\",by=\"gender\")"
   ]
  },
  {
   "cell_type": "code",
   "execution_count": 87,
   "metadata": {},
   "outputs": [
    {
     "data": {
      "text/plain": [
       "array([<matplotlib.axes._subplots.AxesSubplot object at 0x00000200C2A46DA0>,\n",
       "       <matplotlib.axes._subplots.AxesSubplot object at 0x00000200C3FA6860>],\n",
       "      dtype=object)"
      ]
     },
     "execution_count": 87,
     "metadata": {},
     "output_type": "execute_result"
    },
    {
     "data": {
      "image/png": "[encoded data removed]",
      "text/plain": [
       "<Figure size 432x288 with 2 Axes>"
      ]
     },
     "metadata": {
      "needs_background": "light"
     },
     "output_type": "display_data"
    }
   ],
   "source": [
    "# practice - creating age histogram categorized by gender\n",
    "import pandas as pd\n",
    "import matplotlib.pyplot as plt\n",
    "%matplotlib inline\n",
    "Location = \"datasets/gradedata.csv\"\n",
    "df = pd.read_csv(Location)\n",
    "df.hist(column=\"age\",by=\"gender\",color=\"pink\")"
   ]
  },
  {
   "cell_type": "markdown",
   "metadata": {},
   "source": [
    "## Pie Chart"
   ]
  },
  {
   "cell_type": "code",
   "execution_count": 90,
   "metadata": {},
   "outputs": [
    {
     "data": {
      "text/html": [
       "<div>\n",
       "<style scoped>\n",
       "    .dataframe tbody tr th:only-of-type {\n",
       "        vertical-align: middle;\n",
       "    }\n",
       "\n",
       "    .dataframe tbody tr th {\n",
       "        vertical-align: top;\n",
       "    }\n",
       "\n",
       "    .dataframe thead th {\n",
       "        text-align: right;\n",
       "    }\n",
       "</style>\n",
       "<table border=\"1\" class=\"dataframe\">\n",
       "  <thead>\n",
       "    <tr style=\"text-align: right;\">\n",
       "      <th></th>\n",
       "      <th>Names</th>\n",
       "      <th>Absences</th>\n",
       "      <th>Detentions</th>\n",
       "      <th>Warnings</th>\n",
       "    </tr>\n",
       "  </thead>\n",
       "  <tbody>\n",
       "    <tr>\n",
       "      <th>0</th>\n",
       "      <td>Bob</td>\n",
       "      <td>3</td>\n",
       "      <td>2</td>\n",
       "      <td>2</td>\n",
       "    </tr>\n",
       "    <tr>\n",
       "      <th>1</th>\n",
       "      <td>Jessica</td>\n",
       "      <td>0</td>\n",
       "      <td>1</td>\n",
       "      <td>1</td>\n",
       "    </tr>\n",
       "    <tr>\n",
       "      <th>2</th>\n",
       "      <td>Mary</td>\n",
       "      <td>1</td>\n",
       "      <td>0</td>\n",
       "      <td>5</td>\n",
       "    </tr>\n",
       "    <tr>\n",
       "      <th>3</th>\n",
       "      <td>John</td>\n",
       "      <td>0</td>\n",
       "      <td>0</td>\n",
       "      <td>1</td>\n",
       "    </tr>\n",
       "    <tr>\n",
       "      <th>4</th>\n",
       "      <td>Mel</td>\n",
       "      <td>8</td>\n",
       "      <td>1</td>\n",
       "      <td>2</td>\n",
       "    </tr>\n",
       "  </tbody>\n",
       "</table>\n",
       "</div>"
      ],
      "text/plain": [
       "     Names  Absences  Detentions  Warnings\n",
       "0      Bob         3           2         2\n",
       "1  Jessica         0           1         1\n",
       "2     Mary         1           0         5\n",
       "3     John         0           0         1\n",
       "4      Mel         8           1         2"
      ]
     },
     "execution_count": 90,
     "metadata": {},
     "output_type": "execute_result"
    }
   ],
   "source": [
    "import pandas as pd\n",
    "import matplotlib.pyplot as plt\n",
    "%matplotlib inline\n",
    "names = [\"Bob\",\"Jessica\",\"Mary\",\"John\",\"Mel\"]\n",
    "absences = [3,0,1,0,8]\n",
    "detentions = [2,1,0,0,1]\n",
    "warnings = [2,1,5,1,2]\n",
    "GradeList = list(zip(names,absences,detentions,warnings))\n",
    "columns = [\"Names\",\"Absences\",\"Detentions\",\"Warnings\"]\n",
    "df = pd.DataFrame(data=GradeList,columns=columns)\n",
    "df"
   ]
  },
  {
   "cell_type": "code",
   "execution_count": 94,
   "metadata": {},
   "outputs": [
    {
     "data": {
      "text/html": [
       "<div>\n",
       "<style scoped>\n",
       "    .dataframe tbody tr th:only-of-type {\n",
       "        vertical-align: middle;\n",
       "    }\n",
       "\n",
       "    .dataframe tbody tr th {\n",
       "        vertical-align: top;\n",
       "    }\n",
       "\n",
       "    .dataframe thead th {\n",
       "        text-align: right;\n",
       "    }\n",
       "</style>\n",
       "<table border=\"1\" class=\"dataframe\">\n",
       "  <thead>\n",
       "    <tr style=\"text-align: right;\">\n",
       "      <th></th>\n",
       "      <th>Names</th>\n",
       "      <th>Absences</th>\n",
       "      <th>Detentions</th>\n",
       "      <th>Warnings</th>\n",
       "      <th>TotalDemerits</th>\n",
       "    </tr>\n",
       "  </thead>\n",
       "  <tbody>\n",
       "    <tr>\n",
       "      <th>0</th>\n",
       "      <td>Bob</td>\n",
       "      <td>3</td>\n",
       "      <td>2</td>\n",
       "      <td>2</td>\n",
       "      <td>7</td>\n",
       "    </tr>\n",
       "    <tr>\n",
       "      <th>1</th>\n",
       "      <td>Jessica</td>\n",
       "      <td>0</td>\n",
       "      <td>1</td>\n",
       "      <td>1</td>\n",
       "      <td>2</td>\n",
       "    </tr>\n",
       "    <tr>\n",
       "      <th>2</th>\n",
       "      <td>Mary</td>\n",
       "      <td>1</td>\n",
       "      <td>0</td>\n",
       "      <td>5</td>\n",
       "      <td>6</td>\n",
       "    </tr>\n",
       "    <tr>\n",
       "      <th>3</th>\n",
       "      <td>John</td>\n",
       "      <td>0</td>\n",
       "      <td>0</td>\n",
       "      <td>1</td>\n",
       "      <td>1</td>\n",
       "    </tr>\n",
       "    <tr>\n",
       "      <th>4</th>\n",
       "      <td>Mel</td>\n",
       "      <td>8</td>\n",
       "      <td>1</td>\n",
       "      <td>2</td>\n",
       "      <td>11</td>\n",
       "    </tr>\n",
       "  </tbody>\n",
       "</table>\n",
       "</div>"
      ],
      "text/plain": [
       "     Names  Absences  Detentions  Warnings  TotalDemerits\n",
       "0      Bob         3           2         2              7\n",
       "1  Jessica         0           1         1              2\n",
       "2     Mary         1           0         5              6\n",
       "3     John         0           0         1              1\n",
       "4      Mel         8           1         2             11"
      ]
     },
     "execution_count": 94,
     "metadata": {},
     "output_type": "execute_result"
    }
   ],
   "source": [
    "# create a new column to show the total demerits per student\n",
    "df['TotalDemerits'] = df.Absences + df.Detentions + df.Warnings\n",
    "df"
   ]
  },
  {
   "cell_type": "code",
   "execution_count": 96,
   "metadata": {},
   "outputs": [
    {
     "data": {
      "text/plain": [
       "([<matplotlib.patches.Wedge at 0x200c3e04940>,\n",
       "  <matplotlib.patches.Wedge at 0x200c3e04e80>,\n",
       "  <matplotlib.patches.Wedge at 0x200c3e10400>,\n",
       "  <matplotlib.patches.Wedge at 0x200c3e10940>,\n",
       "  <matplotlib.patches.Wedge at 0x200c3e10e80>],\n",
       " [Text(0.754866,0.800111,''),\n",
       "  Text(-0.315484,1.05379,''),\n",
       "  Text(-1.03366,0.376222,''),\n",
       "  Text(-0.982996,-0.493679,''),\n",
       "  Text(0.315484,-1.05379,'')])"
      ]
     },
     "execution_count": 96,
     "metadata": {},
     "output_type": "execute_result"
    },
    {
     "data": {
      "image/png": "[encoded data removed]",
      "text/plain": [
       "<Figure size 432x288 with 1 Axes>"
      ]
     },
     "metadata": {},
     "output_type": "display_data"
    }
   ],
   "source": [
    "# creating a pie chart of demerits\n",
    "plt.pie(df.TotalDemerits) # kinda ugly"
   ]
  },
  {
   "cell_type": "code",
   "execution_count": 106,
   "metadata": {},
   "outputs": [
    {
     "data": {
      "image/png": "[encoded data removed]",
      "text/plain": [
       "<Figure size 432x288 with 1 Axes>"
      ]
     },
     "metadata": {},
     "output_type": "display_data"
    }
   ],
   "source": [
    "# creating a customized (prettier) piechart\n",
    "plt.pie(df.TotalDemerits,\n",
    "       labels=df.Names, # adds students names as labels to the pie pieces\n",
    "       explode=(0,0,0,0,0.15), # \"explodes out\" pie piece of fifth student\n",
    "       startangle=90, # rotates the pie chart to different points\n",
    "       autopct='%1.1f%%') # formats the numeric labels on the pie chart\n",
    "plt.axis('equal') # forces the pie chart to be circular (not squished)\n",
    "plt.show()"
   ]
  },
  {
   "cell_type": "code",
   "execution_count": 112,
   "metadata": {},
   "outputs": [
    {
     "data": {
      "image/png": "[encoded data removed]",
      "text/plain": [
       "<Figure size 432x288 with 1 Axes>"
      ]
     },
     "metadata": {},
     "output_type": "display_data"
    }
   ],
   "source": [
    "# practice - rotate the chart and change the settings to highlight John\n",
    "# instead of Mel\n",
    "plt.pie(df.TotalDemerits,\n",
    "       labels=df.Names,\n",
    "       explode=(0,0,0,0.25,0),\n",
    "       startangle=150,\n",
    "       autopct=\"%1.1f%%\")\n",
    "plt.axis(\"equal\")\n",
    "plt.show()"
   ]
  },
  {
   "cell_type": "markdown",
   "metadata": {},
   "source": [
    "## Scatter Plot"
   ]
  },
  {
   "cell_type": "code",
   "execution_count": 121,
   "metadata": {},
   "outputs": [
    {
     "data": {
      "text/plain": [
       "<matplotlib.collections.PathCollection at 0x200c5626940>"
      ]
     },
     "execution_count": 121,
     "metadata": {},
     "output_type": "execute_result"
    },
    {
     "data": {
      "image/png": "[encoded data removed]",
      "text/plain": [
       "<Figure size 432x288 with 1 Axes>"
      ]
     },
     "metadata": {
      "needs_background": "light"
     },
     "output_type": "display_data"
    }
   ],
   "source": [
    "# creating a scatterplot\n",
    "import numpy as np\n",
    "import pandas as pd\n",
    "import matplotlib.pyplot as plt\n",
    "%matplotlib inline\n",
    "# dataframe = pd.DataFrame({\"Col\": # generating a random dataset of 200 vals\n",
    "#                 np.random.normal(size=200)})\n",
    "d = np.random.normal(size=200)\n",
    "dataframe=pd.DataFrame(data=d, columns=[\"Col\"])\n",
    "plt.scatter(x=dataframe.index, # setting the x of the dataframe to the index\n",
    "            y=dataframe[\"Col\"]) # setting the y of the dataframe to the \n",
    "                    # random numbers"
   ]
  },
  {
   "cell_type": "code",
   "execution_count": 124,
   "metadata": {},
   "outputs": [
    {
     "data": {
      "text/plain": [
       "<matplotlib.collections.PathCollection at 0x200c5d27e10>"
      ]
     },
     "execution_count": 124,
     "metadata": {},
     "output_type": "execute_result"
    },
    {
     "data": {
      "image/png": "[encoded data removed]",
      "text/plain": [
       "<Figure size 432x288 with 1 Axes>"
      ]
     },
     "metadata": {
      "needs_background": "light"
     },
     "output_type": "display_data"
    }
   ],
   "source": [
    "# practice - create a scatterplot of hours and grade data\n",
    "import pandas as pd\n",
    "import matplotlib.pyplot as plt\n",
    "%matplotlib inline\n",
    "Location = \"datasets/gradedata.csv\"\n",
    "df = pd.read_csv(Location)\n",
    "plt.scatter(x=df.hours,\n",
    "           y=df.grade)"
   ]
  },
  {
   "cell_type": "markdown",
   "metadata": {},
   "source": [
    "There appears to be a strong, positive, linear trend in the data. This suggests that as hours spent studying increases, grade scores also increase."
   ]
  },
  {
   "cell_type": "code",
   "execution_count": null,
   "metadata": {},
   "outputs": [],
   "source": []
  }
 ],
 "metadata": {
  "kernelspec": {
   "display_name": "Python 3",
   "language": "python",
   "name": "python3"
  },
  "language_info": {
   "codemirror_mode": {
    "name": "ipython",
    "version": 3
   },
   "file_extension": ".py",
   "mimetype": "text/x-python",
   "name": "python",
   "nbconvert_exporter": "python",
   "pygments_lexer": "ipython3",
   "version": "3.7.0"
  }
 },
 "nbformat": 4,
 "nbformat_minor": 2
}
