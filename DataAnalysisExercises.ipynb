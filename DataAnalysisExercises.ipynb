{
 "cells": [
  {
   "cell_type": "markdown",
   "metadata": {},
   "source": [
    "# Analysis Exercises"
   ]
  },
  {
   "cell_type": "markdown",
   "metadata": {},
   "source": [
    "## Exercise 1"
   ]
  },
  {
   "cell_type": "code",
   "execution_count": 5,
   "metadata": {},
   "outputs": [
    {
     "data": {
      "text/html": [
       "<div>\n",
       "<style scoped>\n",
       "    .dataframe tbody tr th:only-of-type {\n",
       "        vertical-align: middle;\n",
       "    }\n",
       "\n",
       "    .dataframe tbody tr th {\n",
       "        vertical-align: top;\n",
       "    }\n",
       "\n",
       "    .dataframe thead th {\n",
       "        text-align: right;\n",
       "    }\n",
       "</style>\n",
       "<table border=\"1\" class=\"dataframe\">\n",
       "  <thead>\n",
       "    <tr style=\"text-align: right;\">\n",
       "      <th></th>\n",
       "      <th>Fname</th>\n",
       "      <th>Lname</th>\n",
       "      <th>Gender</th>\n",
       "      <th>Grade</th>\n",
       "      <th>Hours of Study</th>\n",
       "    </tr>\n",
       "  </thead>\n",
       "  <tbody>\n",
       "    <tr>\n",
       "      <th>0</th>\n",
       "      <td>Mary</td>\n",
       "      <td>Ettienne</td>\n",
       "      <td>F</td>\n",
       "      <td>B</td>\n",
       "      <td>16</td>\n",
       "    </tr>\n",
       "    <tr>\n",
       "      <th>1</th>\n",
       "      <td>Charles</td>\n",
       "      <td>Looner</td>\n",
       "      <td>M</td>\n",
       "      <td>F</td>\n",
       "      <td>8</td>\n",
       "    </tr>\n",
       "    <tr>\n",
       "      <th>2</th>\n",
       "      <td>Betty</td>\n",
       "      <td>Franklin</td>\n",
       "      <td>F</td>\n",
       "      <td>A</td>\n",
       "      <td>24</td>\n",
       "    </tr>\n",
       "    <tr>\n",
       "      <th>3</th>\n",
       "      <td>Roger</td>\n",
       "      <td>Withers</td>\n",
       "      <td>M</td>\n",
       "      <td>C</td>\n",
       "      <td>5</td>\n",
       "    </tr>\n",
       "    <tr>\n",
       "      <th>4</th>\n",
       "      <td>John</td>\n",
       "      <td>Mulgrew</td>\n",
       "      <td>M</td>\n",
       "      <td>A</td>\n",
       "      <td>5</td>\n",
       "    </tr>\n",
       "  </tbody>\n",
       "</table>\n",
       "</div>"
      ],
      "text/plain": [
       "     Fname     Lname Gender Grade  Hours of Study\n",
       "0     Mary  Ettienne      F     B              16\n",
       "1  Charles    Looner      M     F               8\n",
       "2    Betty  Franklin      F     A              24\n",
       "3    Roger   Withers      M     C               5\n",
       "4     John   Mulgrew      M     A               5"
      ]
     },
     "execution_count": 5,
     "metadata": {},
     "output_type": "execute_result"
    }
   ],
   "source": [
    "# load the data\n",
    "import pandas as pd\n",
    "Location = \"datasets/algebradata.csv\"\n",
    "df = pd.read_csv(Location)\n",
    "df.head()"
   ]
  },
  {
   "cell_type": "code",
   "execution_count": 27,
   "metadata": {},
   "outputs": [
    {
     "data": {
      "text/plain": [
       "69.16916916916917"
      ]
     },
     "execution_count": 27,
     "metadata": {},
     "output_type": "execute_result"
    }
   ],
   "source": [
    "# find the percentage of studenst with a passing grade\n",
    "# create pass and fail status\n",
    "def status(x):\n",
    "    if (x == \"A\") or (x == \"B\") or (x == \"C\"):\n",
    "        return \"Pass\"\n",
    "    else:\n",
    "        return \"Fail\"\n",
    "    \n",
    "df[\"Status\"] = df.Grade.apply(status)\n",
    "passing = ((df[\"Status\"] == \"Pass\").sum())\n",
    "total = len(df.index)\n",
    "(passing / total) * 100"
   ]
  },
  {
   "cell_type": "code",
   "execution_count": 39,
   "metadata": {},
   "outputs": [
    {
     "data": {
      "text/plain": [
       "73.55212355212355"
      ]
     },
     "execution_count": 39,
     "metadata": {},
     "output_type": "execute_result"
    }
   ],
   "source": [
    "# find the percentage of women with a passing grade\n",
    "wom = df[df.Gender == \"F\"]\n",
    "passing = ((wom[\"Status\"] == \"Pass\").sum())\n",
    "total = len(wom.index)\n",
    "(passing / total) * 100"
   ]
  },
  {
   "cell_type": "code",
   "execution_count": 41,
   "metadata": {},
   "outputs": [
    {
     "data": {
      "text/plain": [
       "15.115115115115115"
      ]
     },
     "execution_count": 41,
     "metadata": {},
     "output_type": "execute_result"
    }
   ],
   "source": [
    "# average hours of study for all students\n",
    "df[\"Hours of Study\"].mean()"
   ]
  },
  {
   "cell_type": "code",
   "execution_count": 45,
   "metadata": {},
   "outputs": [
    {
     "data": {
      "text/plain": [
       "16.29811866859624"
      ]
     },
     "execution_count": 45,
     "metadata": {},
     "output_type": "execute_result"
    }
   ],
   "source": [
    "# average hours of study for students with a passing grade\n",
    "df[df[\"Status\"] == \"Pass\"][\"Hours of Study\"].mean()"
   ]
  },
  {
   "cell_type": "markdown",
   "metadata": {},
   "source": [
    "## Exercise 2"
   ]
  },
  {
   "cell_type": "code",
   "execution_count": 49,
   "metadata": {},
   "outputs": [
    {
     "data": {
      "text/html": [
       "<div>\n",
       "<style scoped>\n",
       "    .dataframe tbody tr th:only-of-type {\n",
       "        vertical-align: middle;\n",
       "    }\n",
       "\n",
       "    .dataframe tbody tr th {\n",
       "        vertical-align: top;\n",
       "    }\n",
       "\n",
       "    .dataframe thead th {\n",
       "        text-align: right;\n",
       "    }\n",
       "</style>\n",
       "<table border=\"1\" class=\"dataframe\">\n",
       "  <thead>\n",
       "    <tr style=\"text-align: right;\">\n",
       "      <th></th>\n",
       "      <th>Fname</th>\n",
       "      <th>Lname</th>\n",
       "      <th>Gender</th>\n",
       "      <th>Hours Worked</th>\n",
       "      <th>SalesTraining</th>\n",
       "      <th>Years Experience</th>\n",
       "      <th>Cars Sold</th>\n",
       "    </tr>\n",
       "  </thead>\n",
       "  <tbody>\n",
       "    <tr>\n",
       "      <th>0</th>\n",
       "      <td>Jada</td>\n",
       "      <td>Walters</td>\n",
       "      <td>F</td>\n",
       "      <td>39</td>\n",
       "      <td>N</td>\n",
       "      <td>3</td>\n",
       "      <td>2</td>\n",
       "    </tr>\n",
       "    <tr>\n",
       "      <th>1</th>\n",
       "      <td>Nicole</td>\n",
       "      <td>Henderson</td>\n",
       "      <td>F</td>\n",
       "      <td>46</td>\n",
       "      <td>N</td>\n",
       "      <td>3</td>\n",
       "      <td>6</td>\n",
       "    </tr>\n",
       "    <tr>\n",
       "      <th>2</th>\n",
       "      <td>Tanya</td>\n",
       "      <td>Moore</td>\n",
       "      <td>F</td>\n",
       "      <td>42</td>\n",
       "      <td>Y</td>\n",
       "      <td>4</td>\n",
       "      <td>6</td>\n",
       "    </tr>\n",
       "    <tr>\n",
       "      <th>3</th>\n",
       "      <td>Ronelle</td>\n",
       "      <td>Jackson</td>\n",
       "      <td>F</td>\n",
       "      <td>38</td>\n",
       "      <td>Y</td>\n",
       "      <td>5</td>\n",
       "      <td>3</td>\n",
       "    </tr>\n",
       "    <tr>\n",
       "      <th>4</th>\n",
       "      <td>Brad</td>\n",
       "      <td>Sears</td>\n",
       "      <td>M</td>\n",
       "      <td>33</td>\n",
       "      <td>N</td>\n",
       "      <td>4</td>\n",
       "      <td>2</td>\n",
       "    </tr>\n",
       "  </tbody>\n",
       "</table>\n",
       "</div>"
      ],
      "text/plain": [
       "     Fname      Lname Gender  Hours Worked SalesTraining  Years Experience  \\\n",
       "0     Jada   Walters       F            39             N                 3   \n",
       "1   Nicole  Henderson      F            46             N                 3   \n",
       "2    Tanya      Moore      F            42             Y                 4   \n",
       "3  Ronelle    Jackson      F            38             Y                 5   \n",
       "4     Brad      Sears      M            33             N                 4   \n",
       "\n",
       "   Cars Sold  \n",
       "0          2  \n",
       "1          6  \n",
       "2          6  \n",
       "3          3  \n",
       "4          2  "
      ]
     },
     "execution_count": 49,
     "metadata": {},
     "output_type": "execute_result"
    }
   ],
   "source": [
    "# read in the data\n",
    "import pandas as pd\n",
    "Location = \"datasets/axisdata.csv\"\n",
    "df = pd.read_csv(Location)\n",
    "df.head()"
   ]
  },
  {
   "cell_type": "code",
   "execution_count": 52,
   "metadata": {},
   "outputs": [
    {
     "data": {
      "text/plain": [
       "3.9229229229229228"
      ]
     },
     "execution_count": 52,
     "metadata": {},
     "output_type": "execute_result"
    }
   ],
   "source": [
    "# average cars sold per month per salesperson\n",
    "df[\"Cars Sold\"].mean()"
   ]
  },
  {
   "cell_type": "code",
   "execution_count": 54,
   "metadata": {},
   "outputs": [
    {
     "data": {
      "text/plain": [
       "7"
      ]
     },
     "execution_count": 54,
     "metadata": {},
     "output_type": "execute_result"
    }
   ],
   "source": [
    "# max cars sold per month by a salesperson\n",
    "df[\"Cars Sold\"].max()"
   ]
  },
  {
   "cell_type": "code",
   "execution_count": 56,
   "metadata": {},
   "outputs": [
    {
     "data": {
      "text/plain": [
       "1"
      ]
     },
     "execution_count": 56,
     "metadata": {},
     "output_type": "execute_result"
    }
   ],
   "source": [
    "# min cards sold per month by a salesperson\n",
    "df[\"Cars Sold\"].min()"
   ]
  },
  {
   "cell_type": "code",
   "execution_count": 59,
   "metadata": {},
   "outputs": [
    {
     "data": {
      "text/plain": [
       "Gender\n",
       "F    3.760736\n",
       "M    4.078431\n",
       "Name: Cars Sold, dtype: float64"
      ]
     },
     "execution_count": 59,
     "metadata": {},
     "output_type": "execute_result"
    }
   ],
   "source": [
    "# average cars sold per gender\n",
    "df.groupby(\"Gender\")[\"Cars Sold\"].mean()"
   ]
  },
  {
   "cell_type": "code",
   "execution_count": 75,
   "metadata": {},
   "outputs": [
    {
     "data": {
      "text/plain": [
       "34.740237691001695"
      ]
     },
     "execution_count": 75,
     "metadata": {},
     "output_type": "execute_result"
    }
   ],
   "source": [
    "# average hours worked by people selling more than 3 cars per month\n",
    "df2 = df[df[\"Cars Sold\"] > 3]\n",
    "df2[\"Hours Worked\"].mean()"
   ]
  },
  {
   "cell_type": "code",
   "execution_count": 69,
   "metadata": {},
   "outputs": [
    {
     "data": {
      "text/plain": [
       "3.026026026026026"
      ]
     },
     "execution_count": 69,
     "metadata": {},
     "output_type": "execute_result"
    }
   ],
   "source": [
    "# average years of experience\n",
    "df[\"Years Experience\"].mean()"
   ]
  },
  {
   "cell_type": "code",
   "execution_count": 77,
   "metadata": {},
   "outputs": [
    {
     "data": {
      "text/plain": [
       "3.0492359932088284"
      ]
     },
     "execution_count": 77,
     "metadata": {},
     "output_type": "execute_result"
    }
   ],
   "source": [
    "# average years of experience for people selling more than 3 cars\n",
    "# per mont\n",
    "df2[\"Years Experience\"].mean()"
   ]
  },
  {
   "cell_type": "code",
   "execution_count": 78,
   "metadata": {},
   "outputs": [
    {
     "data": {
      "text/plain": [
       "SalesTraining\n",
       "N    3.573850\n",
       "Y    4.168942\n",
       "Name: Cars Sold, dtype: float64"
      ]
     },
     "execution_count": 78,
     "metadata": {},
     "output_type": "execute_result"
    }
   ],
   "source": [
    "# average cars per month sorted by sales training\n",
    "df.groupby(\"SalesTraining\")[\"Cars Sold\"].mean()"
   ]
  },
  {
   "cell_type": "markdown",
   "metadata": {},
   "source": [
    "Upon an informal first glance, sales training appears to be the best indicator of average cars sold per month. It has the biggest difference in average cars sold between the two populations of salespeople grouped together by their status on this variable."
   ]
  },
  {
   "cell_type": "markdown",
   "metadata": {},
   "source": [
    "## Exercise 3"
   ]
  },
  {
   "cell_type": "code",
   "execution_count": 80,
   "metadata": {},
   "outputs": [
    {
     "data": {
      "text/html": [
       "<div>\n",
       "<style scoped>\n",
       "    .dataframe tbody tr th:only-of-type {\n",
       "        vertical-align: middle;\n",
       "    }\n",
       "\n",
       "    .dataframe tbody tr th {\n",
       "        vertical-align: top;\n",
       "    }\n",
       "\n",
       "    .dataframe thead th {\n",
       "        text-align: right;\n",
       "    }\n",
       "</style>\n",
       "<table border=\"1\" class=\"dataframe\">\n",
       "  <thead>\n",
       "    <tr style=\"text-align: right;\">\n",
       "      <th></th>\n",
       "      <th>Participant_code</th>\n",
       "      <th>Age</th>\n",
       "      <th>Gender</th>\n",
       "      <th>Fam_History_Parkinsons</th>\n",
       "      <th>Age_of_onset</th>\n",
       "      <th>Duration_from_first_symptoms</th>\n",
       "      <th>Antidepressants</th>\n",
       "      <th>Antiparkinsonian_meds</th>\n",
       "      <th>Antipsychotic_meds</th>\n",
       "      <th>Benzodiazepine_meds</th>\n",
       "      <th>...</th>\n",
       "      <th>AccelerationSpeechTiming</th>\n",
       "      <th>DurationPauseIntervals</th>\n",
       "      <th>DurationVoicedIntervals</th>\n",
       "      <th>GapingBTVoicedInterval</th>\n",
       "      <th>DurationUnvoicedStops</th>\n",
       "      <th>DecayUnvoicedFricatives</th>\n",
       "      <th>RelativeLoudnessRespiration</th>\n",
       "      <th>PauseIntPerResp</th>\n",
       "      <th>RateSpeechRespiration</th>\n",
       "      <th>LatencyRespExchange</th>\n",
       "    </tr>\n",
       "  </thead>\n",
       "  <tbody>\n",
       "    <tr>\n",
       "      <th>0</th>\n",
       "      <td>PD</td>\n",
       "      <td>58</td>\n",
       "      <td>F</td>\n",
       "      <td>No</td>\n",
       "      <td>56.0</td>\n",
       "      <td>2.0</td>\n",
       "      <td>No</td>\n",
       "      <td>No</td>\n",
       "      <td>No</td>\n",
       "      <td>No</td>\n",
       "      <td>...</td>\n",
       "      <td>-2.82</td>\n",
       "      <td>158</td>\n",
       "      <td>318</td>\n",
       "      <td>49.01</td>\n",
       "      <td>22.37</td>\n",
       "      <td>0.588</td>\n",
       "      <td>-19.77</td>\n",
       "      <td>6.0</td>\n",
       "      <td>13.81</td>\n",
       "      <td>127</td>\n",
       "    </tr>\n",
       "    <tr>\n",
       "      <th>1</th>\n",
       "      <td>PD</td>\n",
       "      <td>68</td>\n",
       "      <td>F</td>\n",
       "      <td>No</td>\n",
       "      <td>67.0</td>\n",
       "      <td>1.0</td>\n",
       "      <td>No</td>\n",
       "      <td>No</td>\n",
       "      <td>No</td>\n",
       "      <td>No</td>\n",
       "      <td>...</td>\n",
       "      <td>8.20</td>\n",
       "      <td>295</td>\n",
       "      <td>264</td>\n",
       "      <td>40.56</td>\n",
       "      <td>26.88</td>\n",
       "      <td>-0.825</td>\n",
       "      <td>-23.26</td>\n",
       "      <td>4.0</td>\n",
       "      <td>21.77</td>\n",
       "      <td>313</td>\n",
       "    </tr>\n",
       "    <tr>\n",
       "      <th>2</th>\n",
       "      <td>PD</td>\n",
       "      <td>68</td>\n",
       "      <td>M</td>\n",
       "      <td>No</td>\n",
       "      <td>67.0</td>\n",
       "      <td>1.0</td>\n",
       "      <td>No</td>\n",
       "      <td>No</td>\n",
       "      <td>No</td>\n",
       "      <td>No</td>\n",
       "      <td>...</td>\n",
       "      <td>4.71</td>\n",
       "      <td>280</td>\n",
       "      <td>317</td>\n",
       "      <td>48.97</td>\n",
       "      <td>22.37</td>\n",
       "      <td>-0.955</td>\n",
       "      <td>-13.29</td>\n",
       "      <td>4.0</td>\n",
       "      <td>22.52</td>\n",
       "      <td>201</td>\n",
       "    </tr>\n",
       "    <tr>\n",
       "      <th>3</th>\n",
       "      <td>PD</td>\n",
       "      <td>75</td>\n",
       "      <td>M</td>\n",
       "      <td>No</td>\n",
       "      <td>73.0</td>\n",
       "      <td>2.0</td>\n",
       "      <td>No</td>\n",
       "      <td>No</td>\n",
       "      <td>No</td>\n",
       "      <td>No</td>\n",
       "      <td>...</td>\n",
       "      <td>-9.09</td>\n",
       "      <td>397</td>\n",
       "      <td>800</td>\n",
       "      <td>18.69</td>\n",
       "      <td>49.37</td>\n",
       "      <td>0.791</td>\n",
       "      <td>-25.08</td>\n",
       "      <td>2.0</td>\n",
       "      <td>14.37</td>\n",
       "      <td>151</td>\n",
       "    </tr>\n",
       "    <tr>\n",
       "      <th>4</th>\n",
       "      <td>PD</td>\n",
       "      <td>61</td>\n",
       "      <td>M</td>\n",
       "      <td>Yes</td>\n",
       "      <td>60.0</td>\n",
       "      <td>0.7</td>\n",
       "      <td>No</td>\n",
       "      <td>No</td>\n",
       "      <td>No</td>\n",
       "      <td>No</td>\n",
       "      <td>...</td>\n",
       "      <td>11.77</td>\n",
       "      <td>206</td>\n",
       "      <td>480</td>\n",
       "      <td>33.54</td>\n",
       "      <td>26.87</td>\n",
       "      <td>0.075</td>\n",
       "      <td>-22.32</td>\n",
       "      <td>5.0</td>\n",
       "      <td>14.61</td>\n",
       "      <td>151</td>\n",
       "    </tr>\n",
       "  </tbody>\n",
       "</table>\n",
       "<p>5 rows × 25 columns</p>\n",
       "</div>"
      ],
      "text/plain": [
       "  Participant_code  Age Gender Fam_History_Parkinsons  Age_of_onset  \\\n",
       "0               PD   58      F                     No          56.0   \n",
       "1               PD   68      F                     No          67.0   \n",
       "2               PD   68      M                     No          67.0   \n",
       "3               PD   75      M                     No          73.0   \n",
       "4               PD   61      M                    Yes          60.0   \n",
       "\n",
       "   Duration_from_first_symptoms Antidepressants Antiparkinsonian_meds  \\\n",
       "0                           2.0              No                    No   \n",
       "1                           1.0              No                    No   \n",
       "2                           1.0              No                    No   \n",
       "3                           2.0              No                    No   \n",
       "4                           0.7              No                    No   \n",
       "\n",
       "  Antipsychotic_meds Benzodiazepine_meds         ...           \\\n",
       "0                 No                  No         ...            \n",
       "1                 No                  No         ...            \n",
       "2                 No                  No         ...            \n",
       "3                 No                  No         ...            \n",
       "4                 No                  No         ...            \n",
       "\n",
       "  AccelerationSpeechTiming  DurationPauseIntervals  DurationVoicedIntervals  \\\n",
       "0                    -2.82                     158                      318   \n",
       "1                     8.20                     295                      264   \n",
       "2                     4.71                     280                      317   \n",
       "3                    -9.09                     397                      800   \n",
       "4                    11.77                     206                      480   \n",
       "\n",
       "   GapingBTVoicedInterval  DurationUnvoicedStops  DecayUnvoicedFricatives  \\\n",
       "0                   49.01                  22.37                    0.588   \n",
       "1                   40.56                  26.88                   -0.825   \n",
       "2                   48.97                  22.37                   -0.955   \n",
       "3                   18.69                  49.37                    0.791   \n",
       "4                   33.54                  26.87                    0.075   \n",
       "\n",
       "   RelativeLoudnessRespiration  PauseIntPerResp  RateSpeechRespiration  \\\n",
       "0                       -19.77              6.0                  13.81   \n",
       "1                       -23.26              4.0                  21.77   \n",
       "2                       -13.29              4.0                  22.52   \n",
       "3                       -25.08              2.0                  14.37   \n",
       "4                       -22.32              5.0                  14.61   \n",
       "\n",
       "   LatencyRespExchange  \n",
       "0                  127  \n",
       "1                  313  \n",
       "2                  201  \n",
       "3                  151  \n",
       "4                  151  \n",
       "\n",
       "[5 rows x 25 columns]"
      ]
     },
     "execution_count": 80,
     "metadata": {},
     "output_type": "execute_result"
    }
   ],
   "source": [
    "# read in the data\n",
    "import pandas as pd\n",
    "Location = \"datasets/parkinsons.csv\"\n",
    "pdata = pd.read_csv(Location)\n",
    "pdata.head()"
   ]
  },
  {
   "cell_type": "code",
   "execution_count": null,
   "metadata": {},
   "outputs": [],
   "source": []
  }
 ],
 "metadata": {
  "kernelspec": {
   "display_name": "Python 3",
   "language": "python",
   "name": "python3"
  },
  "language_info": {
   "codemirror_mode": {
    "name": "ipython",
    "version": 3
   },
   "file_extension": ".py",
   "mimetype": "text/x-python",
   "name": "python",
   "nbconvert_exporter": "python",
   "pygments_lexer": "ipython3",
   "version": "3.7.0"
  }
 },
 "nbformat": 4,
 "nbformat_minor": 2
}
